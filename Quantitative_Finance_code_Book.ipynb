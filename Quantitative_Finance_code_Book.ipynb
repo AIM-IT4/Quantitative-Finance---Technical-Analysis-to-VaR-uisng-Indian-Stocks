{
  "nbformat": 4,
  "nbformat_minor": 0,
  "metadata": {
    "colab": {
      "name": "Quantitative Finance code Book",
      "provenance": []
    },
    "kernelspec": {
      "name": "python3",
      "display_name": "Python 3"
    },
    "language_info": {
      "name": "python"
    }
  },
  "cells": [
    {
      "cell_type": "code",
      "execution_count": 1,
      "metadata": {
        "id": "FIaS57rHtgrd"
      },
      "outputs": [],
      "source": [
        "import numpy as np\n",
        "%matplotlib inline\n",
        "import pandas as pd\n",
        "import matplotlib.pyplot as plt\n",
        "import pandas_datareader as pdr\n",
        "import datetime\n",
        "import pandas_datareader.data as web\n",
        "import ffn\n",
        "import plotly.express as px"
      ]
    },
    {
      "cell_type": "code",
      "source": [
        "import yfinance as yf"
      ],
      "metadata": {
        "id": "S6MCrbdLwJtc"
      },
      "execution_count": 2,
      "outputs": []
    },
    {
      "cell_type": "code",
      "source": [
        "Microsoft = yf.Ticker(\"MSFT\").history(period='5y')\n",
        "Apple= yf.Ticker(\"AAPL\").history(period='5y')\n",
        "MSFT=Microsoft['Close']\n",
        "AAPL= Apple['Close']\n",
        "JPMorgan= yf.Ticker(\"JPM\").history(period='5y')\n",
        "JPM= JPMorgan['Close']"
      ],
      "metadata": {
        "id": "5PND8Xe6uHB0"
      },
      "execution_count": 3,
      "outputs": []
    },
    {
      "cell_type": "code",
      "source": [
        "AAPL.mean()"
      ],
      "metadata": {
        "colab": {
          "base_uri": "https://localhost:8080/"
        },
        "id": "fgZpiDhWyc-a",
        "outputId": "0f2127ba-31ca-4346-8cb2-da2ea11c558e"
      },
      "execution_count": 4,
      "outputs": [
        {
          "output_type": "execute_result",
          "data": {
            "text/plain": [
              "88.53988112676134"
            ]
          },
          "metadata": {},
          "execution_count": 4
        }
      ]
    },
    {
      "cell_type": "code",
      "source": [
        "AAPL.median()"
      ],
      "metadata": {
        "colab": {
          "base_uri": "https://localhost:8080/"
        },
        "id": "6kZqWr2zye1o",
        "outputId": "39c9c1b0-0774-45c0-e7ec-57eb65dc0556"
      },
      "execution_count": 5,
      "outputs": [
        {
          "output_type": "execute_result",
          "data": {
            "text/plain": [
              "69.73873138427734"
            ]
          },
          "metadata": {},
          "execution_count": 5
        }
      ]
    },
    {
      "cell_type": "code",
      "source": [
        "MSFT.mode()"
      ],
      "metadata": {
        "colab": {
          "base_uri": "https://localhost:8080/"
        },
        "id": "QSRPLv-Yyitg",
        "outputId": "d80cd642-70b4-45bf-da86-a1a705b43ca8"
      },
      "execution_count": 6,
      "outputs": [
        {
          "output_type": "execute_result",
          "data": {
            "text/plain": [
              "0      68.984871\n",
              "1      70.406731\n",
              "2      71.838028\n",
              "3      78.325981\n",
              "4      79.145195\n",
              "5      90.327789\n",
              "6      96.315254\n",
              "7      98.971344\n",
              "8     101.766563\n",
              "9     102.081032\n",
              "10    102.447182\n",
              "11    105.035431\n",
              "12    107.086876\n",
              "13    132.242783\n",
              "14    133.900253\n",
              "15    134.484451\n",
              "16    134.795059\n",
              "17    135.438660\n",
              "18    153.788254\n",
              "19    204.582428\n",
              "20    216.313095\n",
              "21    254.080002\n",
              "22    293.021790\n",
              "23    298.804047\n",
              "dtype: float64"
            ]
          },
          "metadata": {},
          "execution_count": 6
        }
      ]
    },
    {
      "cell_type": "code",
      "source": [
        "MSFT.describe()"
      ],
      "metadata": {
        "colab": {
          "base_uri": "https://localhost:8080/"
        },
        "id": "Av1VCD19zBoc",
        "outputId": "98547192-6487-422b-b4ac-b634a773ed0e"
      },
      "execution_count": 7,
      "outputs": [
        {
          "output_type": "execute_result",
          "data": {
            "text/plain": [
              "count    1259.000000\n",
              "mean      177.754387\n",
              "std        79.782912\n",
              "min        67.939636\n",
              "25%       103.273239\n",
              "50%       158.399643\n",
              "75%       249.507164\n",
              "max       341.606354\n",
              "Name: Close, dtype: float64"
            ]
          },
          "metadata": {},
          "execution_count": 7
        }
      ]
    },
    {
      "cell_type": "code",
      "source": [
        "msft_return= MSFT.pct_change(1)\n",
        "aapl_return= AAPL.pct_change(1)"
      ],
      "metadata": {
        "id": "2AX5o0hJzQBP"
      },
      "execution_count": 8,
      "outputs": []
    },
    {
      "cell_type": "code",
      "source": [
        "bins= 1+3.322* np.log(1259)\n",
        "bins"
      ],
      "metadata": {
        "colab": {
          "base_uri": "https://localhost:8080/"
        },
        "id": "ZmkODyzTzozG",
        "outputId": "db1f242b-725b-4df9-b585-dea29932c053"
      },
      "execution_count": 9,
      "outputs": [
        {
          "output_type": "execute_result",
          "data": {
            "text/plain": [
              "24.71267861909532"
            ]
          },
          "metadata": {},
          "execution_count": 9
        }
      ]
    },
    {
      "cell_type": "code",
      "source": [
        "msft_return.skew()\n",
        "aapl_return.skew()"
      ],
      "metadata": {
        "colab": {
          "base_uri": "https://localhost:8080/"
        },
        "id": "WwxwGm-g_oIa",
        "outputId": "247e7b75-4bc5-481b-d95b-9f287f72b66e"
      },
      "execution_count": 10,
      "outputs": [
        {
          "output_type": "execute_result",
          "data": {
            "text/plain": [
              "-0.10350579509128915"
            ]
          },
          "metadata": {},
          "execution_count": 10
        }
      ]
    },
    {
      "cell_type": "code",
      "source": [
        "msft_return.kurtosis()"
      ],
      "metadata": {
        "colab": {
          "base_uri": "https://localhost:8080/"
        },
        "id": "M2gqQVxt_rfD",
        "outputId": "5a2e9ab7-b2ab-47e0-c666-4cffc78189a3"
      },
      "execution_count": 11,
      "outputs": [
        {
          "output_type": "execute_result",
          "data": {
            "text/plain": [
              "7.86276375372009"
            ]
          },
          "metadata": {},
          "execution_count": 11
        }
      ]
    },
    {
      "cell_type": "code",
      "source": [
        "msft_return.var()"
      ],
      "metadata": {
        "colab": {
          "base_uri": "https://localhost:8080/"
        },
        "id": "daenRaX-_-op",
        "outputId": "ef863325-c759-40ba-b1ad-cc4cd41748f4"
      },
      "execution_count": 12,
      "outputs": [
        {
          "output_type": "execute_result",
          "data": {
            "text/plain": [
              "0.00035002410653443475"
            ]
          },
          "metadata": {},
          "execution_count": 12
        }
      ]
    },
    {
      "cell_type": "code",
      "source": [
        "msft_return.std()"
      ],
      "metadata": {
        "colab": {
          "base_uri": "https://localhost:8080/"
        },
        "id": "dueklBvaDGTy",
        "outputId": "647a7936-a6d1-40a1-f5e8-52f2406d932a"
      },
      "execution_count": 13,
      "outputs": [
        {
          "output_type": "execute_result",
          "data": {
            "text/plain": [
              "0.018708931197009483"
            ]
          },
          "metadata": {},
          "execution_count": 13
        }
      ]
    },
    {
      "cell_type": "code",
      "source": [
        "stock= pd.concat([msft_return, aapl_return],axis=1)\n",
        "stock.columns= ['MSFT_return','AAPL_return']\n",
        "stock"
      ],
      "metadata": {
        "colab": {
          "base_uri": "https://localhost:8080/",
          "height": 455
        },
        "id": "epwQPqg3DRPX",
        "outputId": "441952b8-31e5-43d7-c882-bc678e0f747a"
      },
      "execution_count": 14,
      "outputs": [
        {
          "output_type": "execute_result",
          "data": {
            "text/plain": [
              "            MSFT_return  AAPL_return\n",
              "Date                                \n",
              "2017-08-14          NaN          NaN\n",
              "2017-08-15     0.000273     0.010947\n",
              "2017-08-16     0.005873    -0.004022\n",
              "2017-08-17    -0.016972    -0.019199\n",
              "2017-08-18     0.001243    -0.002280\n",
              "...                 ...          ...\n",
              "2022-08-08    -0.009155    -0.002903\n",
              "2022-08-09     0.007063     0.000303\n",
              "2022-08-10     0.024300     0.026195\n",
              "2022-08-11    -0.007401    -0.004432\n",
              "2022-08-12     0.017037     0.021426\n",
              "\n",
              "[1259 rows x 2 columns]"
            ],
            "text/html": [
              "\n",
              "  <div id=\"df-4c3d05db-3b7d-47de-9a5c-52c00f16368a\">\n",
              "    <div class=\"colab-df-container\">\n",
              "      <div>\n",
              "<style scoped>\n",
              "    .dataframe tbody tr th:only-of-type {\n",
              "        vertical-align: middle;\n",
              "    }\n",
              "\n",
              "    .dataframe tbody tr th {\n",
              "        vertical-align: top;\n",
              "    }\n",
              "\n",
              "    .dataframe thead th {\n",
              "        text-align: right;\n",
              "    }\n",
              "</style>\n",
              "<table border=\"1\" class=\"dataframe\">\n",
              "  <thead>\n",
              "    <tr style=\"text-align: right;\">\n",
              "      <th></th>\n",
              "      <th>MSFT_return</th>\n",
              "      <th>AAPL_return</th>\n",
              "    </tr>\n",
              "    <tr>\n",
              "      <th>Date</th>\n",
              "      <th></th>\n",
              "      <th></th>\n",
              "    </tr>\n",
              "  </thead>\n",
              "  <tbody>\n",
              "    <tr>\n",
              "      <th>2017-08-14</th>\n",
              "      <td>NaN</td>\n",
              "      <td>NaN</td>\n",
              "    </tr>\n",
              "    <tr>\n",
              "      <th>2017-08-15</th>\n",
              "      <td>0.000273</td>\n",
              "      <td>0.010947</td>\n",
              "    </tr>\n",
              "    <tr>\n",
              "      <th>2017-08-16</th>\n",
              "      <td>0.005873</td>\n",
              "      <td>-0.004022</td>\n",
              "    </tr>\n",
              "    <tr>\n",
              "      <th>2017-08-17</th>\n",
              "      <td>-0.016972</td>\n",
              "      <td>-0.019199</td>\n",
              "    </tr>\n",
              "    <tr>\n",
              "      <th>2017-08-18</th>\n",
              "      <td>0.001243</td>\n",
              "      <td>-0.002280</td>\n",
              "    </tr>\n",
              "    <tr>\n",
              "      <th>...</th>\n",
              "      <td>...</td>\n",
              "      <td>...</td>\n",
              "    </tr>\n",
              "    <tr>\n",
              "      <th>2022-08-08</th>\n",
              "      <td>-0.009155</td>\n",
              "      <td>-0.002903</td>\n",
              "    </tr>\n",
              "    <tr>\n",
              "      <th>2022-08-09</th>\n",
              "      <td>0.007063</td>\n",
              "      <td>0.000303</td>\n",
              "    </tr>\n",
              "    <tr>\n",
              "      <th>2022-08-10</th>\n",
              "      <td>0.024300</td>\n",
              "      <td>0.026195</td>\n",
              "    </tr>\n",
              "    <tr>\n",
              "      <th>2022-08-11</th>\n",
              "      <td>-0.007401</td>\n",
              "      <td>-0.004432</td>\n",
              "    </tr>\n",
              "    <tr>\n",
              "      <th>2022-08-12</th>\n",
              "      <td>0.017037</td>\n",
              "      <td>0.021426</td>\n",
              "    </tr>\n",
              "  </tbody>\n",
              "</table>\n",
              "<p>1259 rows × 2 columns</p>\n",
              "</div>\n",
              "      <button class=\"colab-df-convert\" onclick=\"convertToInteractive('df-4c3d05db-3b7d-47de-9a5c-52c00f16368a')\"\n",
              "              title=\"Convert this dataframe to an interactive table.\"\n",
              "              style=\"display:none;\">\n",
              "        \n",
              "  <svg xmlns=\"http://www.w3.org/2000/svg\" height=\"24px\"viewBox=\"0 0 24 24\"\n",
              "       width=\"24px\">\n",
              "    <path d=\"M0 0h24v24H0V0z\" fill=\"none\"/>\n",
              "    <path d=\"M18.56 5.44l.94 2.06.94-2.06 2.06-.94-2.06-.94-.94-2.06-.94 2.06-2.06.94zm-11 1L8.5 8.5l.94-2.06 2.06-.94-2.06-.94L8.5 2.5l-.94 2.06-2.06.94zm10 10l.94 2.06.94-2.06 2.06-.94-2.06-.94-.94-2.06-.94 2.06-2.06.94z\"/><path d=\"M17.41 7.96l-1.37-1.37c-.4-.4-.92-.59-1.43-.59-.52 0-1.04.2-1.43.59L10.3 9.45l-7.72 7.72c-.78.78-.78 2.05 0 2.83L4 21.41c.39.39.9.59 1.41.59.51 0 1.02-.2 1.41-.59l7.78-7.78 2.81-2.81c.8-.78.8-2.07 0-2.86zM5.41 20L4 18.59l7.72-7.72 1.47 1.35L5.41 20z\"/>\n",
              "  </svg>\n",
              "      </button>\n",
              "      \n",
              "  <style>\n",
              "    .colab-df-container {\n",
              "      display:flex;\n",
              "      flex-wrap:wrap;\n",
              "      gap: 12px;\n",
              "    }\n",
              "\n",
              "    .colab-df-convert {\n",
              "      background-color: #E8F0FE;\n",
              "      border: none;\n",
              "      border-radius: 50%;\n",
              "      cursor: pointer;\n",
              "      display: none;\n",
              "      fill: #1967D2;\n",
              "      height: 32px;\n",
              "      padding: 0 0 0 0;\n",
              "      width: 32px;\n",
              "    }\n",
              "\n",
              "    .colab-df-convert:hover {\n",
              "      background-color: #E2EBFA;\n",
              "      box-shadow: 0px 1px 2px rgba(60, 64, 67, 0.3), 0px 1px 3px 1px rgba(60, 64, 67, 0.15);\n",
              "      fill: #174EA6;\n",
              "    }\n",
              "\n",
              "    [theme=dark] .colab-df-convert {\n",
              "      background-color: #3B4455;\n",
              "      fill: #D2E3FC;\n",
              "    }\n",
              "\n",
              "    [theme=dark] .colab-df-convert:hover {\n",
              "      background-color: #434B5C;\n",
              "      box-shadow: 0px 1px 3px 1px rgba(0, 0, 0, 0.15);\n",
              "      filter: drop-shadow(0px 1px 2px rgba(0, 0, 0, 0.3));\n",
              "      fill: #FFFFFF;\n",
              "    }\n",
              "  </style>\n",
              "\n",
              "      <script>\n",
              "        const buttonEl =\n",
              "          document.querySelector('#df-4c3d05db-3b7d-47de-9a5c-52c00f16368a button.colab-df-convert');\n",
              "        buttonEl.style.display =\n",
              "          google.colab.kernel.accessAllowed ? 'block' : 'none';\n",
              "\n",
              "        async function convertToInteractive(key) {\n",
              "          const element = document.querySelector('#df-4c3d05db-3b7d-47de-9a5c-52c00f16368a');\n",
              "          const dataTable =\n",
              "            await google.colab.kernel.invokeFunction('convertToInteractive',\n",
              "                                                     [key], {});\n",
              "          if (!dataTable) return;\n",
              "\n",
              "          const docLinkHtml = 'Like what you see? Visit the ' +\n",
              "            '<a target=\"_blank\" href=https://colab.research.google.com/notebooks/data_table.ipynb>data table notebook</a>'\n",
              "            + ' to learn more about interactive tables.';\n",
              "          element.innerHTML = '';\n",
              "          dataTable['output_type'] = 'display_data';\n",
              "          await google.colab.output.renderOutput(dataTable, element);\n",
              "          const docLink = document.createElement('div');\n",
              "          docLink.innerHTML = docLinkHtml;\n",
              "          element.appendChild(docLink);\n",
              "        }\n",
              "      </script>\n",
              "    </div>\n",
              "  </div>\n",
              "  "
            ]
          },
          "metadata": {},
          "execution_count": 14
        }
      ]
    },
    {
      "cell_type": "code",
      "source": [
        "stock.cov()"
      ],
      "metadata": {
        "colab": {
          "base_uri": "https://localhost:8080/",
          "height": 112
        },
        "id": "JTJaXsdZFpyR",
        "outputId": "1cb6ad1d-f65c-4fb3-8ca0-011e111960f7"
      },
      "execution_count": 15,
      "outputs": [
        {
          "output_type": "execute_result",
          "data": {
            "text/plain": [
              "             MSFT_return  AAPL_return\n",
              "MSFT_return     0.000350     0.000288\n",
              "AAPL_return     0.000288     0.000410"
            ],
            "text/html": [
              "\n",
              "  <div id=\"df-31cd2163-9adc-4b54-bac3-04b1c559c522\">\n",
              "    <div class=\"colab-df-container\">\n",
              "      <div>\n",
              "<style scoped>\n",
              "    .dataframe tbody tr th:only-of-type {\n",
              "        vertical-align: middle;\n",
              "    }\n",
              "\n",
              "    .dataframe tbody tr th {\n",
              "        vertical-align: top;\n",
              "    }\n",
              "\n",
              "    .dataframe thead th {\n",
              "        text-align: right;\n",
              "    }\n",
              "</style>\n",
              "<table border=\"1\" class=\"dataframe\">\n",
              "  <thead>\n",
              "    <tr style=\"text-align: right;\">\n",
              "      <th></th>\n",
              "      <th>MSFT_return</th>\n",
              "      <th>AAPL_return</th>\n",
              "    </tr>\n",
              "  </thead>\n",
              "  <tbody>\n",
              "    <tr>\n",
              "      <th>MSFT_return</th>\n",
              "      <td>0.000350</td>\n",
              "      <td>0.000288</td>\n",
              "    </tr>\n",
              "    <tr>\n",
              "      <th>AAPL_return</th>\n",
              "      <td>0.000288</td>\n",
              "      <td>0.000410</td>\n",
              "    </tr>\n",
              "  </tbody>\n",
              "</table>\n",
              "</div>\n",
              "      <button class=\"colab-df-convert\" onclick=\"convertToInteractive('df-31cd2163-9adc-4b54-bac3-04b1c559c522')\"\n",
              "              title=\"Convert this dataframe to an interactive table.\"\n",
              "              style=\"display:none;\">\n",
              "        \n",
              "  <svg xmlns=\"http://www.w3.org/2000/svg\" height=\"24px\"viewBox=\"0 0 24 24\"\n",
              "       width=\"24px\">\n",
              "    <path d=\"M0 0h24v24H0V0z\" fill=\"none\"/>\n",
              "    <path d=\"M18.56 5.44l.94 2.06.94-2.06 2.06-.94-2.06-.94-.94-2.06-.94 2.06-2.06.94zm-11 1L8.5 8.5l.94-2.06 2.06-.94-2.06-.94L8.5 2.5l-.94 2.06-2.06.94zm10 10l.94 2.06.94-2.06 2.06-.94-2.06-.94-.94-2.06-.94 2.06-2.06.94z\"/><path d=\"M17.41 7.96l-1.37-1.37c-.4-.4-.92-.59-1.43-.59-.52 0-1.04.2-1.43.59L10.3 9.45l-7.72 7.72c-.78.78-.78 2.05 0 2.83L4 21.41c.39.39.9.59 1.41.59.51 0 1.02-.2 1.41-.59l7.78-7.78 2.81-2.81c.8-.78.8-2.07 0-2.86zM5.41 20L4 18.59l7.72-7.72 1.47 1.35L5.41 20z\"/>\n",
              "  </svg>\n",
              "      </button>\n",
              "      \n",
              "  <style>\n",
              "    .colab-df-container {\n",
              "      display:flex;\n",
              "      flex-wrap:wrap;\n",
              "      gap: 12px;\n",
              "    }\n",
              "\n",
              "    .colab-df-convert {\n",
              "      background-color: #E8F0FE;\n",
              "      border: none;\n",
              "      border-radius: 50%;\n",
              "      cursor: pointer;\n",
              "      display: none;\n",
              "      fill: #1967D2;\n",
              "      height: 32px;\n",
              "      padding: 0 0 0 0;\n",
              "      width: 32px;\n",
              "    }\n",
              "\n",
              "    .colab-df-convert:hover {\n",
              "      background-color: #E2EBFA;\n",
              "      box-shadow: 0px 1px 2px rgba(60, 64, 67, 0.3), 0px 1px 3px 1px rgba(60, 64, 67, 0.15);\n",
              "      fill: #174EA6;\n",
              "    }\n",
              "\n",
              "    [theme=dark] .colab-df-convert {\n",
              "      background-color: #3B4455;\n",
              "      fill: #D2E3FC;\n",
              "    }\n",
              "\n",
              "    [theme=dark] .colab-df-convert:hover {\n",
              "      background-color: #434B5C;\n",
              "      box-shadow: 0px 1px 3px 1px rgba(0, 0, 0, 0.15);\n",
              "      filter: drop-shadow(0px 1px 2px rgba(0, 0, 0, 0.3));\n",
              "      fill: #FFFFFF;\n",
              "    }\n",
              "  </style>\n",
              "\n",
              "      <script>\n",
              "        const buttonEl =\n",
              "          document.querySelector('#df-31cd2163-9adc-4b54-bac3-04b1c559c522 button.colab-df-convert');\n",
              "        buttonEl.style.display =\n",
              "          google.colab.kernel.accessAllowed ? 'block' : 'none';\n",
              "\n",
              "        async function convertToInteractive(key) {\n",
              "          const element = document.querySelector('#df-31cd2163-9adc-4b54-bac3-04b1c559c522');\n",
              "          const dataTable =\n",
              "            await google.colab.kernel.invokeFunction('convertToInteractive',\n",
              "                                                     [key], {});\n",
              "          if (!dataTable) return;\n",
              "\n",
              "          const docLinkHtml = 'Like what you see? Visit the ' +\n",
              "            '<a target=\"_blank\" href=https://colab.research.google.com/notebooks/data_table.ipynb>data table notebook</a>'\n",
              "            + ' to learn more about interactive tables.';\n",
              "          element.innerHTML = '';\n",
              "          dataTable['output_type'] = 'display_data';\n",
              "          await google.colab.output.renderOutput(dataTable, element);\n",
              "          const docLink = document.createElement('div');\n",
              "          docLink.innerHTML = docLinkHtml;\n",
              "          element.appendChild(docLink);\n",
              "        }\n",
              "      </script>\n",
              "    </div>\n",
              "  </div>\n",
              "  "
            ]
          },
          "metadata": {},
          "execution_count": 15
        }
      ]
    },
    {
      "cell_type": "code",
      "source": [
        "stock.cov()*252"
      ],
      "metadata": {
        "colab": {
          "base_uri": "https://localhost:8080/",
          "height": 112
        },
        "id": "T1CV-PSrFtyt",
        "outputId": "72811d69-2fef-489b-f66b-90d75ed89b91"
      },
      "execution_count": 16,
      "outputs": [
        {
          "output_type": "execute_result",
          "data": {
            "text/plain": [
              "             MSFT_return  AAPL_return\n",
              "MSFT_return     0.088206     0.072518\n",
              "AAPL_return     0.072518     0.103285"
            ],
            "text/html": [
              "\n",
              "  <div id=\"df-0008a5b4-7910-4235-a6e3-8ca861d92f22\">\n",
              "    <div class=\"colab-df-container\">\n",
              "      <div>\n",
              "<style scoped>\n",
              "    .dataframe tbody tr th:only-of-type {\n",
              "        vertical-align: middle;\n",
              "    }\n",
              "\n",
              "    .dataframe tbody tr th {\n",
              "        vertical-align: top;\n",
              "    }\n",
              "\n",
              "    .dataframe thead th {\n",
              "        text-align: right;\n",
              "    }\n",
              "</style>\n",
              "<table border=\"1\" class=\"dataframe\">\n",
              "  <thead>\n",
              "    <tr style=\"text-align: right;\">\n",
              "      <th></th>\n",
              "      <th>MSFT_return</th>\n",
              "      <th>AAPL_return</th>\n",
              "    </tr>\n",
              "  </thead>\n",
              "  <tbody>\n",
              "    <tr>\n",
              "      <th>MSFT_return</th>\n",
              "      <td>0.088206</td>\n",
              "      <td>0.072518</td>\n",
              "    </tr>\n",
              "    <tr>\n",
              "      <th>AAPL_return</th>\n",
              "      <td>0.072518</td>\n",
              "      <td>0.103285</td>\n",
              "    </tr>\n",
              "  </tbody>\n",
              "</table>\n",
              "</div>\n",
              "      <button class=\"colab-df-convert\" onclick=\"convertToInteractive('df-0008a5b4-7910-4235-a6e3-8ca861d92f22')\"\n",
              "              title=\"Convert this dataframe to an interactive table.\"\n",
              "              style=\"display:none;\">\n",
              "        \n",
              "  <svg xmlns=\"http://www.w3.org/2000/svg\" height=\"24px\"viewBox=\"0 0 24 24\"\n",
              "       width=\"24px\">\n",
              "    <path d=\"M0 0h24v24H0V0z\" fill=\"none\"/>\n",
              "    <path d=\"M18.56 5.44l.94 2.06.94-2.06 2.06-.94-2.06-.94-.94-2.06-.94 2.06-2.06.94zm-11 1L8.5 8.5l.94-2.06 2.06-.94-2.06-.94L8.5 2.5l-.94 2.06-2.06.94zm10 10l.94 2.06.94-2.06 2.06-.94-2.06-.94-.94-2.06-.94 2.06-2.06.94z\"/><path d=\"M17.41 7.96l-1.37-1.37c-.4-.4-.92-.59-1.43-.59-.52 0-1.04.2-1.43.59L10.3 9.45l-7.72 7.72c-.78.78-.78 2.05 0 2.83L4 21.41c.39.39.9.59 1.41.59.51 0 1.02-.2 1.41-.59l7.78-7.78 2.81-2.81c.8-.78.8-2.07 0-2.86zM5.41 20L4 18.59l7.72-7.72 1.47 1.35L5.41 20z\"/>\n",
              "  </svg>\n",
              "      </button>\n",
              "      \n",
              "  <style>\n",
              "    .colab-df-container {\n",
              "      display:flex;\n",
              "      flex-wrap:wrap;\n",
              "      gap: 12px;\n",
              "    }\n",
              "\n",
              "    .colab-df-convert {\n",
              "      background-color: #E8F0FE;\n",
              "      border: none;\n",
              "      border-radius: 50%;\n",
              "      cursor: pointer;\n",
              "      display: none;\n",
              "      fill: #1967D2;\n",
              "      height: 32px;\n",
              "      padding: 0 0 0 0;\n",
              "      width: 32px;\n",
              "    }\n",
              "\n",
              "    .colab-df-convert:hover {\n",
              "      background-color: #E2EBFA;\n",
              "      box-shadow: 0px 1px 2px rgba(60, 64, 67, 0.3), 0px 1px 3px 1px rgba(60, 64, 67, 0.15);\n",
              "      fill: #174EA6;\n",
              "    }\n",
              "\n",
              "    [theme=dark] .colab-df-convert {\n",
              "      background-color: #3B4455;\n",
              "      fill: #D2E3FC;\n",
              "    }\n",
              "\n",
              "    [theme=dark] .colab-df-convert:hover {\n",
              "      background-color: #434B5C;\n",
              "      box-shadow: 0px 1px 3px 1px rgba(0, 0, 0, 0.15);\n",
              "      filter: drop-shadow(0px 1px 2px rgba(0, 0, 0, 0.3));\n",
              "      fill: #FFFFFF;\n",
              "    }\n",
              "  </style>\n",
              "\n",
              "      <script>\n",
              "        const buttonEl =\n",
              "          document.querySelector('#df-0008a5b4-7910-4235-a6e3-8ca861d92f22 button.colab-df-convert');\n",
              "        buttonEl.style.display =\n",
              "          google.colab.kernel.accessAllowed ? 'block' : 'none';\n",
              "\n",
              "        async function convertToInteractive(key) {\n",
              "          const element = document.querySelector('#df-0008a5b4-7910-4235-a6e3-8ca861d92f22');\n",
              "          const dataTable =\n",
              "            await google.colab.kernel.invokeFunction('convertToInteractive',\n",
              "                                                     [key], {});\n",
              "          if (!dataTable) return;\n",
              "\n",
              "          const docLinkHtml = 'Like what you see? Visit the ' +\n",
              "            '<a target=\"_blank\" href=https://colab.research.google.com/notebooks/data_table.ipynb>data table notebook</a>'\n",
              "            + ' to learn more about interactive tables.';\n",
              "          element.innerHTML = '';\n",
              "          dataTable['output_type'] = 'display_data';\n",
              "          await google.colab.output.renderOutput(dataTable, element);\n",
              "          const docLink = document.createElement('div');\n",
              "          docLink.innerHTML = docLinkHtml;\n",
              "          element.appendChild(docLink);\n",
              "        }\n",
              "      </script>\n",
              "    </div>\n",
              "  </div>\n",
              "  "
            ]
          },
          "metadata": {},
          "execution_count": 16
        }
      ]
    },
    {
      "cell_type": "code",
      "source": [
        "stock.corr()"
      ],
      "metadata": {
        "colab": {
          "base_uri": "https://localhost:8080/",
          "height": 112
        },
        "id": "QWmgckM-F1X7",
        "outputId": "861635d2-221d-4254-cde5-fa60f12aa0ef"
      },
      "execution_count": 17,
      "outputs": [
        {
          "output_type": "execute_result",
          "data": {
            "text/plain": [
              "             MSFT_return  AAPL_return\n",
              "MSFT_return     1.000000     0.759768\n",
              "AAPL_return     0.759768     1.000000"
            ],
            "text/html": [
              "\n",
              "  <div id=\"df-32f17a7d-28c0-495a-91ab-168650d0c084\">\n",
              "    <div class=\"colab-df-container\">\n",
              "      <div>\n",
              "<style scoped>\n",
              "    .dataframe tbody tr th:only-of-type {\n",
              "        vertical-align: middle;\n",
              "    }\n",
              "\n",
              "    .dataframe tbody tr th {\n",
              "        vertical-align: top;\n",
              "    }\n",
              "\n",
              "    .dataframe thead th {\n",
              "        text-align: right;\n",
              "    }\n",
              "</style>\n",
              "<table border=\"1\" class=\"dataframe\">\n",
              "  <thead>\n",
              "    <tr style=\"text-align: right;\">\n",
              "      <th></th>\n",
              "      <th>MSFT_return</th>\n",
              "      <th>AAPL_return</th>\n",
              "    </tr>\n",
              "  </thead>\n",
              "  <tbody>\n",
              "    <tr>\n",
              "      <th>MSFT_return</th>\n",
              "      <td>1.000000</td>\n",
              "      <td>0.759768</td>\n",
              "    </tr>\n",
              "    <tr>\n",
              "      <th>AAPL_return</th>\n",
              "      <td>0.759768</td>\n",
              "      <td>1.000000</td>\n",
              "    </tr>\n",
              "  </tbody>\n",
              "</table>\n",
              "</div>\n",
              "      <button class=\"colab-df-convert\" onclick=\"convertToInteractive('df-32f17a7d-28c0-495a-91ab-168650d0c084')\"\n",
              "              title=\"Convert this dataframe to an interactive table.\"\n",
              "              style=\"display:none;\">\n",
              "        \n",
              "  <svg xmlns=\"http://www.w3.org/2000/svg\" height=\"24px\"viewBox=\"0 0 24 24\"\n",
              "       width=\"24px\">\n",
              "    <path d=\"M0 0h24v24H0V0z\" fill=\"none\"/>\n",
              "    <path d=\"M18.56 5.44l.94 2.06.94-2.06 2.06-.94-2.06-.94-.94-2.06-.94 2.06-2.06.94zm-11 1L8.5 8.5l.94-2.06 2.06-.94-2.06-.94L8.5 2.5l-.94 2.06-2.06.94zm10 10l.94 2.06.94-2.06 2.06-.94-2.06-.94-.94-2.06-.94 2.06-2.06.94z\"/><path d=\"M17.41 7.96l-1.37-1.37c-.4-.4-.92-.59-1.43-.59-.52 0-1.04.2-1.43.59L10.3 9.45l-7.72 7.72c-.78.78-.78 2.05 0 2.83L4 21.41c.39.39.9.59 1.41.59.51 0 1.02-.2 1.41-.59l7.78-7.78 2.81-2.81c.8-.78.8-2.07 0-2.86zM5.41 20L4 18.59l7.72-7.72 1.47 1.35L5.41 20z\"/>\n",
              "  </svg>\n",
              "      </button>\n",
              "      \n",
              "  <style>\n",
              "    .colab-df-container {\n",
              "      display:flex;\n",
              "      flex-wrap:wrap;\n",
              "      gap: 12px;\n",
              "    }\n",
              "\n",
              "    .colab-df-convert {\n",
              "      background-color: #E8F0FE;\n",
              "      border: none;\n",
              "      border-radius: 50%;\n",
              "      cursor: pointer;\n",
              "      display: none;\n",
              "      fill: #1967D2;\n",
              "      height: 32px;\n",
              "      padding: 0 0 0 0;\n",
              "      width: 32px;\n",
              "    }\n",
              "\n",
              "    .colab-df-convert:hover {\n",
              "      background-color: #E2EBFA;\n",
              "      box-shadow: 0px 1px 2px rgba(60, 64, 67, 0.3), 0px 1px 3px 1px rgba(60, 64, 67, 0.15);\n",
              "      fill: #174EA6;\n",
              "    }\n",
              "\n",
              "    [theme=dark] .colab-df-convert {\n",
              "      background-color: #3B4455;\n",
              "      fill: #D2E3FC;\n",
              "    }\n",
              "\n",
              "    [theme=dark] .colab-df-convert:hover {\n",
              "      background-color: #434B5C;\n",
              "      box-shadow: 0px 1px 3px 1px rgba(0, 0, 0, 0.15);\n",
              "      filter: drop-shadow(0px 1px 2px rgba(0, 0, 0, 0.3));\n",
              "      fill: #FFFFFF;\n",
              "    }\n",
              "  </style>\n",
              "\n",
              "      <script>\n",
              "        const buttonEl =\n",
              "          document.querySelector('#df-32f17a7d-28c0-495a-91ab-168650d0c084 button.colab-df-convert');\n",
              "        buttonEl.style.display =\n",
              "          google.colab.kernel.accessAllowed ? 'block' : 'none';\n",
              "\n",
              "        async function convertToInteractive(key) {\n",
              "          const element = document.querySelector('#df-32f17a7d-28c0-495a-91ab-168650d0c084');\n",
              "          const dataTable =\n",
              "            await google.colab.kernel.invokeFunction('convertToInteractive',\n",
              "                                                     [key], {});\n",
              "          if (!dataTable) return;\n",
              "\n",
              "          const docLinkHtml = 'Like what you see? Visit the ' +\n",
              "            '<a target=\"_blank\" href=https://colab.research.google.com/notebooks/data_table.ipynb>data table notebook</a>'\n",
              "            + ' to learn more about interactive tables.';\n",
              "          element.innerHTML = '';\n",
              "          dataTable['output_type'] = 'display_data';\n",
              "          await google.colab.output.renderOutput(dataTable, element);\n",
              "          const docLink = document.createElement('div');\n",
              "          docLink.innerHTML = docLinkHtml;\n",
              "          element.appendChild(docLink);\n",
              "        }\n",
              "      </script>\n",
              "    </div>\n",
              "  </div>\n",
              "  "
            ]
          },
          "metadata": {},
          "execution_count": 17
        }
      ]
    },
    {
      "cell_type": "code",
      "source": [
        "MSFT.plot(label='Microsft Close', figsize=(15,5))\n",
        "AAPL.plot(label='Apple Close', figsize=(15,5))\n",
        "JPM.plot(label='JP Morgan Close', figsize=(15,5))\n",
        "\n",
        "plt.legend()"
      ],
      "metadata": {
        "colab": {
          "base_uri": "https://localhost:8080/"
        },
        "id": "rlAGX9OqF588",
        "outputId": "3f0b09eb-1cd6-42b5-d583-8f61fceab449"
      },
      "execution_count": 18,
      "outputs": [
        {
          "output_type": "execute_result",
          "data": {
            "text/plain": [
              "<matplotlib.legend.Legend at 0x7f680cca6a10>"
            ]
          },
          "metadata": {},
          "execution_count": 18
        }
      ]
    },
    {
      "cell_type": "code",
      "source": [
        "Microsoft['Volume'].plot(label='Microsft Volume', figsize=(15,5))"
      ],
      "metadata": {
        "colab": {
          "base_uri": "https://localhost:8080/"
        },
        "id": "VM00htrSMcd8",
        "outputId": "e3a4aedd-5a37-4af6-c00e-d3a5df8f4976"
      },
      "execution_count": 19,
      "outputs": [
        {
          "output_type": "execute_result",
          "data": {
            "text/plain": [
              "<matplotlib.axes._subplots.AxesSubplot at 0x7f6828db72d0>"
            ]
          },
          "metadata": {},
          "execution_count": 19
        }
      ]
    },
    {
      "cell_type": "code",
      "source": [
        "Microsoft_ttl_trded= Microsoft['Volume']* Microsoft['Close']\n",
        "\n",
        "Microsoft_ttl_trded.plot(label='Microsft Total Traded', figsize=(15,5))"
      ],
      "metadata": {
        "colab": {
          "base_uri": "https://localhost:8080/"
        },
        "id": "Azq07Xb3bsZx",
        "outputId": "2f1c74f6-d567-4f0c-c554-a10d1737e52f"
      },
      "execution_count": 20,
      "outputs": [
        {
          "output_type": "execute_result",
          "data": {
            "text/plain": [
              "<matplotlib.axes._subplots.AxesSubplot at 0x7f6828db72d0>"
            ]
          },
          "metadata": {},
          "execution_count": 20
        }
      ]
    },
    {
      "cell_type": "code",
      "source": [
        "Apple_ttl_traded= Apple['Close']* Apple['Volume']"
      ],
      "metadata": {
        "id": "7V0LMEImgq_7"
      },
      "execution_count": 21,
      "outputs": []
    },
    {
      "cell_type": "code",
      "source": [
        "Morgan_ttl_traded= JPMorgan['Close']* JPMorgan['Volume']"
      ],
      "metadata": {
        "id": "8j7O9_fekoRz"
      },
      "execution_count": 22,
      "outputs": []
    },
    {
      "cell_type": "code",
      "source": [
        "Microsoft_ttl_trded.plot(label='Microsft Total Traded', figsize=(15,5))\n",
        "Apple_ttl_traded.plot(label='Apple Total Traded', figsize=(15,5))\n",
        "Morgan_ttl_traded.plot(label='Morgan Total Traded', figsize=(15,5))\n",
        "plt.xlabel('Date')\n",
        "plt.ylabel('Total Traded')\n",
        "plt.legend()"
      ],
      "metadata": {
        "colab": {
          "base_uri": "https://localhost:8080/"
        },
        "id": "In9Sz52zhDFZ",
        "outputId": "6a1884ac-85ce-43d4-e009-869271ef9286"
      },
      "execution_count": 23,
      "outputs": [
        {
          "output_type": "execute_result",
          "data": {
            "text/plain": [
              "<matplotlib.legend.Legend at 0x7f680d190cd0>"
            ]
          },
          "metadata": {},
          "execution_count": 23
        }
      ]
    },
    {
      "cell_type": "code",
      "source": [
        "MSFT_MA_50=Microsoft['Close'].rolling(50).mean()\n",
        "AAPL_MA_50=Apple['Close'].rolling(50).mean()\n",
        "JPM_MA_50=JPMorgan['Close'].rolling(50).mean()\n",
        "MSFT_MA_100=Microsoft['Close'].rolling(100).mean()\n",
        "AAPL_MA_100=Apple['Close'].rolling(100).mean()\n",
        "JPM_MA_100=JPMorgan['Close'].rolling(100).mean()\n",
        "MSFT_MA_200=Microsoft['Close'].rolling(200).mean()\n",
        "AAPL_MA_200=Apple['Close'].rolling(200).mean()\n",
        "JPM_MA_200=JPMorgan['Close'].rolling(200).mean()"
      ],
      "metadata": {
        "id": "xbBvPM5whmnS"
      },
      "execution_count": 24,
      "outputs": []
    },
    {
      "cell_type": "code",
      "source": [
        "MSFT_MA_50.plot(label='Microsft MA50', figsize=(15,5))\n",
        "MSFT_MA_100.plot(label='Microsft MA100', figsize=(15,5))\n",
        "MSFT_MA_200.plot(label='Microsft MA200', figsize=(15,5))\n",
        "MSFT.plot(label='Microsft Close', figsize=(15,5))\n",
        "plt.legend()"
      ],
      "metadata": {
        "colab": {
          "base_uri": "https://localhost:8080/"
        },
        "id": "mdJd42PLjAed",
        "outputId": "4d500605-ea8e-44f2-d0c0-2619a8e42962"
      },
      "execution_count": 25,
      "outputs": [
        {
          "output_type": "execute_result",
          "data": {
            "text/plain": [
              "<matplotlib.legend.Legend at 0x7f680d11d950>"
            ]
          },
          "metadata": {},
          "execution_count": 25
        }
      ]
    },
    {
      "cell_type": "code",
      "source": [
        "AAPL_MA_50.plot(label='Apple MA50', figsize=(15,5))\n",
        "AAPL_MA_100.plot(label='Apple MA100', figsize=(15,5))\n",
        "AAPL_MA_200.plot(label='Apple MA200', figsize=(15,5))\n",
        "AAPL.plot(label='Apple Close', figsize=(15,5))\n",
        "plt.legend()"
      ],
      "metadata": {
        "colab": {
          "base_uri": "https://localhost:8080/"
        },
        "id": "h7nD1wtSkCfI",
        "outputId": "9ba08931-05df-462a-8e31-88071a24ee3e"
      },
      "execution_count": 26,
      "outputs": [
        {
          "output_type": "execute_result",
          "data": {
            "text/plain": [
              "<matplotlib.legend.Legend at 0x7f680c777d50>"
            ]
          },
          "metadata": {},
          "execution_count": 26
        }
      ]
    },
    {
      "cell_type": "code",
      "source": [
        "JPM_MA_50.plot(label='JPMorgan MA50', figsize=(15,5))\n",
        "JPM_MA_100.plot(label='JPMorgan MA100', figsize=(15,5))\n",
        "JPM_MA_200.plot(label='JPMorgan MA200', figsize=(15,5))\n",
        "JPM.plot(label='JPMorgan Close', figsize=(15,5))\n",
        "plt.legend()"
      ],
      "metadata": {
        "colab": {
          "base_uri": "https://localhost:8080/"
        },
        "id": "GN_WRBoFlDVV",
        "outputId": "60a41ed2-7a85-4dc3-9b73-e2d95113f1fa"
      },
      "execution_count": 27,
      "outputs": [
        {
          "output_type": "execute_result",
          "data": {
            "text/plain": [
              "<matplotlib.legend.Legend at 0x7f680ca0b5d0>"
            ]
          },
          "metadata": {},
          "execution_count": 27
        }
      ]
    },
    {
      "cell_type": "code",
      "source": [
        "Microsoft['MACD']= Microsoft['Close'].ewm(span=12, adjust=False).mean()-  Microsoft['Close'].ewm(span=26, adjust=False).mean()\n",
        "Microsoft['Baseline']=0\n",
        "\n",
        "Microsoft['MACD'].plot(label='MSFT MACD', figsize=(15,5))\n",
        "Microsoft['Baseline'].plot(label='Baseline')\n",
        "plt.legend()"
      ],
      "metadata": {
        "colab": {
          "base_uri": "https://localhost:8080/"
        },
        "id": "2P8XhmpSlNM5",
        "outputId": "7354c55e-98a9-41fa-8477-255910d9aaf1"
      },
      "execution_count": 28,
      "outputs": [
        {
          "output_type": "execute_result",
          "data": {
            "text/plain": [
              "<matplotlib.legend.Legend at 0x7f680c46c350>"
            ]
          },
          "metadata": {},
          "execution_count": 28
        }
      ]
    },
    {
      "cell_type": "code",
      "source": [
        "JPMorgan['MACD']= JPMorgan['Close'].ewm(span=12, adjust=False).mean()-  JPMorgan['Close'].ewm(span=26, adjust=False).mean()\n",
        "JPMorgan['Baseline']=0\n",
        "\n",
        "JPMorgan['MACD'].plot(label='JPM MACD', figsize=(15,5))\n",
        "JPMorgan['Baseline'].plot(label='Baseline')\n",
        "plt.legend()"
      ],
      "metadata": {
        "colab": {
          "base_uri": "https://localhost:8080/"
        },
        "id": "_vogVGRvm6fN",
        "outputId": "a0764702-a9a9-4c1a-f1a4-55e025c58658"
      },
      "execution_count": 29,
      "outputs": [
        {
          "output_type": "execute_result",
          "data": {
            "text/plain": [
              "<matplotlib.legend.Legend at 0x7f680c3ba750>"
            ]
          },
          "metadata": {},
          "execution_count": 29
        }
      ]
    },
    {
      "cell_type": "code",
      "source": [
        "Apple['MACD']= Apple['Close'].ewm(span=12, adjust=False).mean()-  Apple['Close'].ewm(span=26, adjust=False).mean()\n",
        "Apple['Baseline']=0\n",
        "\n",
        "Apple['MACD'].plot(label='Apple MACD', figsize=(15,5))\n",
        "Apple['Baseline'].plot(label='Baseline')\n",
        "plt.legend()"
      ],
      "metadata": {
        "colab": {
          "base_uri": "https://localhost:8080/"
        },
        "id": "lOZZVrCunB2K",
        "outputId": "8cf176bb-59fb-408c-fc26-7f7a17157cc4"
      },
      "execution_count": 30,
      "outputs": [
        {
          "output_type": "execute_result",
          "data": {
            "text/plain": [
              "<matplotlib.legend.Legend at 0x7f68228c50d0>"
            ]
          },
          "metadata": {},
          "execution_count": 30
        }
      ]
    },
    {
      "cell_type": "code",
      "source": [
        "window_of_days= 20\n",
        "number_std=2"
      ],
      "metadata": {
        "id": "QLtyPXGDnO3M"
      },
      "execution_count": 31,
      "outputs": []
    },
    {
      "cell_type": "code",
      "source": [
        "rolling_mean= Microsoft['Close'].rolling(window_of_days).mean()\n",
        "rolling_std= Microsoft['Close'].rolling(window_of_days).std()"
      ],
      "metadata": {
        "id": "9HccS30PohIY"
      },
      "execution_count": 32,
      "outputs": []
    },
    {
      "cell_type": "code",
      "source": [
        "Microsoft['Rolling_Mean']= rolling_mean\n",
        "Microsoft['Bollinger_High']= rolling_mean+ rolling_std*number_std\n",
        "Microsoft['Bolling_low']= rolling_mean- rolling_std*number_std"
      ],
      "metadata": {
        "id": "k5IMxerUoyan"
      },
      "execution_count": 33,
      "outputs": []
    },
    {
      "cell_type": "code",
      "source": [
        "Microsoft['Rolling_Mean'].plot(label='MSFT Mean', figsize=(15,5))\n",
        "Microsoft['Bollinger_High'].plot(label='MSFT High', figsize=(15,5))\n",
        "Microsoft['Bolling_low'].plot(label='MSFT Low', figsize=(15,5))\n",
        "plt.legend()"
      ],
      "metadata": {
        "colab": {
          "base_uri": "https://localhost:8080/"
        },
        "id": "Pxi2dItIpQut",
        "outputId": "be520c0b-72c8-4b3d-dc3b-bde7e83f08d4"
      },
      "execution_count": 34,
      "outputs": [
        {
          "output_type": "execute_result",
          "data": {
            "text/plain": [
              "<matplotlib.legend.Legend at 0x7f680c41e350>"
            ]
          },
          "metadata": {},
          "execution_count": 34
        }
      ]
    },
    {
      "cell_type": "code",
      "source": [
        "import yfinance as yf\n",
        "etf = ['RELIANCE.NS','SUNPHARMA.NS','ITC.NS','BPCL.NS'] #and any tickers you'd add to be retrived\n",
        "Stock = yf.download(tickers=etf, period='5y')\n",
        "Portfolio=Stock['Close']"
      ],
      "metadata": {
        "colab": {
          "base_uri": "https://localhost:8080/"
        },
        "id": "2LTnZl52p4rC",
        "outputId": "b0918af9-85df-45e7-8fa5-886ce442d217"
      },
      "execution_count": 35,
      "outputs": [
        {
          "output_type": "stream",
          "name": "stdout",
          "text": [
            "[*********************100%***********************]  4 of 4 completed\n"
          ]
        }
      ]
    },
    {
      "cell_type": "code",
      "source": [
        "Portfolio_return= Portfolio/Portfolio.shift(1)\n",
        "Portfolio_return"
      ],
      "metadata": {
        "colab": {
          "base_uri": "https://localhost:8080/",
          "height": 455
        },
        "id": "Hu8t8ocowN9N",
        "outputId": "f861b480-098b-4803-b33c-ef0948558cdb"
      },
      "execution_count": 36,
      "outputs": [
        {
          "output_type": "execute_result",
          "data": {
            "text/plain": [
              "             BPCL.NS    ITC.NS  RELIANCE.NS  SUNPHARMA.NS\n",
              "Date                                                     \n",
              "2017-08-14       NaN       NaN          NaN           NaN\n",
              "2017-08-16  1.011707  1.029309     0.995582      1.029462\n",
              "2017-08-17  1.020147  1.002865     1.000639      1.005250\n",
              "2017-08-18  1.019445  1.006607     1.005296      0.962929\n",
              "2017-08-21  0.988973  0.999113     0.993018      0.979581\n",
              "...              ...       ...          ...           ...\n",
              "2022-08-05  1.007336  1.004362     0.985264      0.997224\n",
              "2022-08-08  0.968044  1.007399     1.013082      0.993941\n",
              "2022-08-10  1.008138  0.993773     1.005979      1.010215\n",
              "2022-08-11  1.000152  0.984094     1.003330      1.001468\n",
              "2022-08-12  1.016903  1.007510     1.016171      0.991749\n",
              "\n",
              "[1236 rows x 4 columns]"
            ],
            "text/html": [
              "\n",
              "  <div id=\"df-fed1aca4-5e06-407f-9b7a-353ff59b8403\">\n",
              "    <div class=\"colab-df-container\">\n",
              "      <div>\n",
              "<style scoped>\n",
              "    .dataframe tbody tr th:only-of-type {\n",
              "        vertical-align: middle;\n",
              "    }\n",
              "\n",
              "    .dataframe tbody tr th {\n",
              "        vertical-align: top;\n",
              "    }\n",
              "\n",
              "    .dataframe thead th {\n",
              "        text-align: right;\n",
              "    }\n",
              "</style>\n",
              "<table border=\"1\" class=\"dataframe\">\n",
              "  <thead>\n",
              "    <tr style=\"text-align: right;\">\n",
              "      <th></th>\n",
              "      <th>BPCL.NS</th>\n",
              "      <th>ITC.NS</th>\n",
              "      <th>RELIANCE.NS</th>\n",
              "      <th>SUNPHARMA.NS</th>\n",
              "    </tr>\n",
              "    <tr>\n",
              "      <th>Date</th>\n",
              "      <th></th>\n",
              "      <th></th>\n",
              "      <th></th>\n",
              "      <th></th>\n",
              "    </tr>\n",
              "  </thead>\n",
              "  <tbody>\n",
              "    <tr>\n",
              "      <th>2017-08-14</th>\n",
              "      <td>NaN</td>\n",
              "      <td>NaN</td>\n",
              "      <td>NaN</td>\n",
              "      <td>NaN</td>\n",
              "    </tr>\n",
              "    <tr>\n",
              "      <th>2017-08-16</th>\n",
              "      <td>1.011707</td>\n",
              "      <td>1.029309</td>\n",
              "      <td>0.995582</td>\n",
              "      <td>1.029462</td>\n",
              "    </tr>\n",
              "    <tr>\n",
              "      <th>2017-08-17</th>\n",
              "      <td>1.020147</td>\n",
              "      <td>1.002865</td>\n",
              "      <td>1.000639</td>\n",
              "      <td>1.005250</td>\n",
              "    </tr>\n",
              "    <tr>\n",
              "      <th>2017-08-18</th>\n",
              "      <td>1.019445</td>\n",
              "      <td>1.006607</td>\n",
              "      <td>1.005296</td>\n",
              "      <td>0.962929</td>\n",
              "    </tr>\n",
              "    <tr>\n",
              "      <th>2017-08-21</th>\n",
              "      <td>0.988973</td>\n",
              "      <td>0.999113</td>\n",
              "      <td>0.993018</td>\n",
              "      <td>0.979581</td>\n",
              "    </tr>\n",
              "    <tr>\n",
              "      <th>...</th>\n",
              "      <td>...</td>\n",
              "      <td>...</td>\n",
              "      <td>...</td>\n",
              "      <td>...</td>\n",
              "    </tr>\n",
              "    <tr>\n",
              "      <th>2022-08-05</th>\n",
              "      <td>1.007336</td>\n",
              "      <td>1.004362</td>\n",
              "      <td>0.985264</td>\n",
              "      <td>0.997224</td>\n",
              "    </tr>\n",
              "    <tr>\n",
              "      <th>2022-08-08</th>\n",
              "      <td>0.968044</td>\n",
              "      <td>1.007399</td>\n",
              "      <td>1.013082</td>\n",
              "      <td>0.993941</td>\n",
              "    </tr>\n",
              "    <tr>\n",
              "      <th>2022-08-10</th>\n",
              "      <td>1.008138</td>\n",
              "      <td>0.993773</td>\n",
              "      <td>1.005979</td>\n",
              "      <td>1.010215</td>\n",
              "    </tr>\n",
              "    <tr>\n",
              "      <th>2022-08-11</th>\n",
              "      <td>1.000152</td>\n",
              "      <td>0.984094</td>\n",
              "      <td>1.003330</td>\n",
              "      <td>1.001468</td>\n",
              "    </tr>\n",
              "    <tr>\n",
              "      <th>2022-08-12</th>\n",
              "      <td>1.016903</td>\n",
              "      <td>1.007510</td>\n",
              "      <td>1.016171</td>\n",
              "      <td>0.991749</td>\n",
              "    </tr>\n",
              "  </tbody>\n",
              "</table>\n",
              "<p>1236 rows × 4 columns</p>\n",
              "</div>\n",
              "      <button class=\"colab-df-convert\" onclick=\"convertToInteractive('df-fed1aca4-5e06-407f-9b7a-353ff59b8403')\"\n",
              "              title=\"Convert this dataframe to an interactive table.\"\n",
              "              style=\"display:none;\">\n",
              "        \n",
              "  <svg xmlns=\"http://www.w3.org/2000/svg\" height=\"24px\"viewBox=\"0 0 24 24\"\n",
              "       width=\"24px\">\n",
              "    <path d=\"M0 0h24v24H0V0z\" fill=\"none\"/>\n",
              "    <path d=\"M18.56 5.44l.94 2.06.94-2.06 2.06-.94-2.06-.94-.94-2.06-.94 2.06-2.06.94zm-11 1L8.5 8.5l.94-2.06 2.06-.94-2.06-.94L8.5 2.5l-.94 2.06-2.06.94zm10 10l.94 2.06.94-2.06 2.06-.94-2.06-.94-.94-2.06-.94 2.06-2.06.94z\"/><path d=\"M17.41 7.96l-1.37-1.37c-.4-.4-.92-.59-1.43-.59-.52 0-1.04.2-1.43.59L10.3 9.45l-7.72 7.72c-.78.78-.78 2.05 0 2.83L4 21.41c.39.39.9.59 1.41.59.51 0 1.02-.2 1.41-.59l7.78-7.78 2.81-2.81c.8-.78.8-2.07 0-2.86zM5.41 20L4 18.59l7.72-7.72 1.47 1.35L5.41 20z\"/>\n",
              "  </svg>\n",
              "      </button>\n",
              "      \n",
              "  <style>\n",
              "    .colab-df-container {\n",
              "      display:flex;\n",
              "      flex-wrap:wrap;\n",
              "      gap: 12px;\n",
              "    }\n",
              "\n",
              "    .colab-df-convert {\n",
              "      background-color: #E8F0FE;\n",
              "      border: none;\n",
              "      border-radius: 50%;\n",
              "      cursor: pointer;\n",
              "      display: none;\n",
              "      fill: #1967D2;\n",
              "      height: 32px;\n",
              "      padding: 0 0 0 0;\n",
              "      width: 32px;\n",
              "    }\n",
              "\n",
              "    .colab-df-convert:hover {\n",
              "      background-color: #E2EBFA;\n",
              "      box-shadow: 0px 1px 2px rgba(60, 64, 67, 0.3), 0px 1px 3px 1px rgba(60, 64, 67, 0.15);\n",
              "      fill: #174EA6;\n",
              "    }\n",
              "\n",
              "    [theme=dark] .colab-df-convert {\n",
              "      background-color: #3B4455;\n",
              "      fill: #D2E3FC;\n",
              "    }\n",
              "\n",
              "    [theme=dark] .colab-df-convert:hover {\n",
              "      background-color: #434B5C;\n",
              "      box-shadow: 0px 1px 3px 1px rgba(0, 0, 0, 0.15);\n",
              "      filter: drop-shadow(0px 1px 2px rgba(0, 0, 0, 0.3));\n",
              "      fill: #FFFFFF;\n",
              "    }\n",
              "  </style>\n",
              "\n",
              "      <script>\n",
              "        const buttonEl =\n",
              "          document.querySelector('#df-fed1aca4-5e06-407f-9b7a-353ff59b8403 button.colab-df-convert');\n",
              "        buttonEl.style.display =\n",
              "          google.colab.kernel.accessAllowed ? 'block' : 'none';\n",
              "\n",
              "        async function convertToInteractive(key) {\n",
              "          const element = document.querySelector('#df-fed1aca4-5e06-407f-9b7a-353ff59b8403');\n",
              "          const dataTable =\n",
              "            await google.colab.kernel.invokeFunction('convertToInteractive',\n",
              "                                                     [key], {});\n",
              "          if (!dataTable) return;\n",
              "\n",
              "          const docLinkHtml = 'Like what you see? Visit the ' +\n",
              "            '<a target=\"_blank\" href=https://colab.research.google.com/notebooks/data_table.ipynb>data table notebook</a>'\n",
              "            + ' to learn more about interactive tables.';\n",
              "          element.innerHTML = '';\n",
              "          dataTable['output_type'] = 'display_data';\n",
              "          await google.colab.output.renderOutput(dataTable, element);\n",
              "          const docLink = document.createElement('div');\n",
              "          docLink.innerHTML = docLinkHtml;\n",
              "          element.appendChild(docLink);\n",
              "        }\n",
              "      </script>\n",
              "    </div>\n",
              "  </div>\n",
              "  "
            ]
          },
          "metadata": {},
          "execution_count": 36
        }
      ]
    },
    {
      "cell_type": "code",
      "source": [
        "Portfolio_Cov= Portfolio_return.cov()\n",
        "Portfolio_Cov"
      ],
      "metadata": {
        "colab": {
          "base_uri": "https://localhost:8080/",
          "height": 175
        },
        "id": "AIOYoyOnwY4m",
        "outputId": "8e4ee395-82ce-48de-9a2b-9cfce0158449"
      },
      "execution_count": 37,
      "outputs": [
        {
          "output_type": "execute_result",
          "data": {
            "text/plain": [
              "               BPCL.NS    ITC.NS  RELIANCE.NS  SUNPHARMA.NS\n",
              "BPCL.NS       0.000601  0.000134     0.000179      0.000118\n",
              "ITC.NS        0.000134  0.000283     0.000088      0.000085\n",
              "RELIANCE.NS   0.000179  0.000088     0.000401      0.000110\n",
              "SUNPHARMA.NS  0.000118  0.000085     0.000110      0.000414"
            ],
            "text/html": [
              "\n",
              "  <div id=\"df-e37e2ca6-1687-489c-ab67-1c0e68ff1a87\">\n",
              "    <div class=\"colab-df-container\">\n",
              "      <div>\n",
              "<style scoped>\n",
              "    .dataframe tbody tr th:only-of-type {\n",
              "        vertical-align: middle;\n",
              "    }\n",
              "\n",
              "    .dataframe tbody tr th {\n",
              "        vertical-align: top;\n",
              "    }\n",
              "\n",
              "    .dataframe thead th {\n",
              "        text-align: right;\n",
              "    }\n",
              "</style>\n",
              "<table border=\"1\" class=\"dataframe\">\n",
              "  <thead>\n",
              "    <tr style=\"text-align: right;\">\n",
              "      <th></th>\n",
              "      <th>BPCL.NS</th>\n",
              "      <th>ITC.NS</th>\n",
              "      <th>RELIANCE.NS</th>\n",
              "      <th>SUNPHARMA.NS</th>\n",
              "    </tr>\n",
              "  </thead>\n",
              "  <tbody>\n",
              "    <tr>\n",
              "      <th>BPCL.NS</th>\n",
              "      <td>0.000601</td>\n",
              "      <td>0.000134</td>\n",
              "      <td>0.000179</td>\n",
              "      <td>0.000118</td>\n",
              "    </tr>\n",
              "    <tr>\n",
              "      <th>ITC.NS</th>\n",
              "      <td>0.000134</td>\n",
              "      <td>0.000283</td>\n",
              "      <td>0.000088</td>\n",
              "      <td>0.000085</td>\n",
              "    </tr>\n",
              "    <tr>\n",
              "      <th>RELIANCE.NS</th>\n",
              "      <td>0.000179</td>\n",
              "      <td>0.000088</td>\n",
              "      <td>0.000401</td>\n",
              "      <td>0.000110</td>\n",
              "    </tr>\n",
              "    <tr>\n",
              "      <th>SUNPHARMA.NS</th>\n",
              "      <td>0.000118</td>\n",
              "      <td>0.000085</td>\n",
              "      <td>0.000110</td>\n",
              "      <td>0.000414</td>\n",
              "    </tr>\n",
              "  </tbody>\n",
              "</table>\n",
              "</div>\n",
              "      <button class=\"colab-df-convert\" onclick=\"convertToInteractive('df-e37e2ca6-1687-489c-ab67-1c0e68ff1a87')\"\n",
              "              title=\"Convert this dataframe to an interactive table.\"\n",
              "              style=\"display:none;\">\n",
              "        \n",
              "  <svg xmlns=\"http://www.w3.org/2000/svg\" height=\"24px\"viewBox=\"0 0 24 24\"\n",
              "       width=\"24px\">\n",
              "    <path d=\"M0 0h24v24H0V0z\" fill=\"none\"/>\n",
              "    <path d=\"M18.56 5.44l.94 2.06.94-2.06 2.06-.94-2.06-.94-.94-2.06-.94 2.06-2.06.94zm-11 1L8.5 8.5l.94-2.06 2.06-.94-2.06-.94L8.5 2.5l-.94 2.06-2.06.94zm10 10l.94 2.06.94-2.06 2.06-.94-2.06-.94-.94-2.06-.94 2.06-2.06.94z\"/><path d=\"M17.41 7.96l-1.37-1.37c-.4-.4-.92-.59-1.43-.59-.52 0-1.04.2-1.43.59L10.3 9.45l-7.72 7.72c-.78.78-.78 2.05 0 2.83L4 21.41c.39.39.9.59 1.41.59.51 0 1.02-.2 1.41-.59l7.78-7.78 2.81-2.81c.8-.78.8-2.07 0-2.86zM5.41 20L4 18.59l7.72-7.72 1.47 1.35L5.41 20z\"/>\n",
              "  </svg>\n",
              "      </button>\n",
              "      \n",
              "  <style>\n",
              "    .colab-df-container {\n",
              "      display:flex;\n",
              "      flex-wrap:wrap;\n",
              "      gap: 12px;\n",
              "    }\n",
              "\n",
              "    .colab-df-convert {\n",
              "      background-color: #E8F0FE;\n",
              "      border: none;\n",
              "      border-radius: 50%;\n",
              "      cursor: pointer;\n",
              "      display: none;\n",
              "      fill: #1967D2;\n",
              "      height: 32px;\n",
              "      padding: 0 0 0 0;\n",
              "      width: 32px;\n",
              "    }\n",
              "\n",
              "    .colab-df-convert:hover {\n",
              "      background-color: #E2EBFA;\n",
              "      box-shadow: 0px 1px 2px rgba(60, 64, 67, 0.3), 0px 1px 3px 1px rgba(60, 64, 67, 0.15);\n",
              "      fill: #174EA6;\n",
              "    }\n",
              "\n",
              "    [theme=dark] .colab-df-convert {\n",
              "      background-color: #3B4455;\n",
              "      fill: #D2E3FC;\n",
              "    }\n",
              "\n",
              "    [theme=dark] .colab-df-convert:hover {\n",
              "      background-color: #434B5C;\n",
              "      box-shadow: 0px 1px 3px 1px rgba(0, 0, 0, 0.15);\n",
              "      filter: drop-shadow(0px 1px 2px rgba(0, 0, 0, 0.3));\n",
              "      fill: #FFFFFF;\n",
              "    }\n",
              "  </style>\n",
              "\n",
              "      <script>\n",
              "        const buttonEl =\n",
              "          document.querySelector('#df-e37e2ca6-1687-489c-ab67-1c0e68ff1a87 button.colab-df-convert');\n",
              "        buttonEl.style.display =\n",
              "          google.colab.kernel.accessAllowed ? 'block' : 'none';\n",
              "\n",
              "        async function convertToInteractive(key) {\n",
              "          const element = document.querySelector('#df-e37e2ca6-1687-489c-ab67-1c0e68ff1a87');\n",
              "          const dataTable =\n",
              "            await google.colab.kernel.invokeFunction('convertToInteractive',\n",
              "                                                     [key], {});\n",
              "          if (!dataTable) return;\n",
              "\n",
              "          const docLinkHtml = 'Like what you see? Visit the ' +\n",
              "            '<a target=\"_blank\" href=https://colab.research.google.com/notebooks/data_table.ipynb>data table notebook</a>'\n",
              "            + ' to learn more about interactive tables.';\n",
              "          element.innerHTML = '';\n",
              "          dataTable['output_type'] = 'display_data';\n",
              "          await google.colab.output.renderOutput(dataTable, element);\n",
              "          const docLink = document.createElement('div');\n",
              "          docLink.innerHTML = docLinkHtml;\n",
              "          element.appendChild(docLink);\n",
              "        }\n",
              "      </script>\n",
              "    </div>\n",
              "  </div>\n",
              "  "
            ]
          },
          "metadata": {},
          "execution_count": 37
        }
      ]
    },
    {
      "cell_type": "code",
      "source": [
        "annualised_cov= Portfolio_Cov*252\n",
        "annualised_cov"
      ],
      "metadata": {
        "colab": {
          "base_uri": "https://localhost:8080/",
          "height": 175
        },
        "id": "Fs2Bq9XowrhB",
        "outputId": "6d9532a3-e51d-4892-83fa-a2d61fe5ffe1"
      },
      "execution_count": 38,
      "outputs": [
        {
          "output_type": "execute_result",
          "data": {
            "text/plain": [
              "               BPCL.NS    ITC.NS  RELIANCE.NS  SUNPHARMA.NS\n",
              "BPCL.NS       0.151569  0.033731     0.045174      0.029824\n",
              "ITC.NS        0.033731  0.071316     0.022126      0.021440\n",
              "RELIANCE.NS   0.045174  0.022126     0.101089      0.027774\n",
              "SUNPHARMA.NS  0.029824  0.021440     0.027774      0.104343"
            ],
            "text/html": [
              "\n",
              "  <div id=\"df-277bec18-87e1-4472-b666-daa7ca460042\">\n",
              "    <div class=\"colab-df-container\">\n",
              "      <div>\n",
              "<style scoped>\n",
              "    .dataframe tbody tr th:only-of-type {\n",
              "        vertical-align: middle;\n",
              "    }\n",
              "\n",
              "    .dataframe tbody tr th {\n",
              "        vertical-align: top;\n",
              "    }\n",
              "\n",
              "    .dataframe thead th {\n",
              "        text-align: right;\n",
              "    }\n",
              "</style>\n",
              "<table border=\"1\" class=\"dataframe\">\n",
              "  <thead>\n",
              "    <tr style=\"text-align: right;\">\n",
              "      <th></th>\n",
              "      <th>BPCL.NS</th>\n",
              "      <th>ITC.NS</th>\n",
              "      <th>RELIANCE.NS</th>\n",
              "      <th>SUNPHARMA.NS</th>\n",
              "    </tr>\n",
              "  </thead>\n",
              "  <tbody>\n",
              "    <tr>\n",
              "      <th>BPCL.NS</th>\n",
              "      <td>0.151569</td>\n",
              "      <td>0.033731</td>\n",
              "      <td>0.045174</td>\n",
              "      <td>0.029824</td>\n",
              "    </tr>\n",
              "    <tr>\n",
              "      <th>ITC.NS</th>\n",
              "      <td>0.033731</td>\n",
              "      <td>0.071316</td>\n",
              "      <td>0.022126</td>\n",
              "      <td>0.021440</td>\n",
              "    </tr>\n",
              "    <tr>\n",
              "      <th>RELIANCE.NS</th>\n",
              "      <td>0.045174</td>\n",
              "      <td>0.022126</td>\n",
              "      <td>0.101089</td>\n",
              "      <td>0.027774</td>\n",
              "    </tr>\n",
              "    <tr>\n",
              "      <th>SUNPHARMA.NS</th>\n",
              "      <td>0.029824</td>\n",
              "      <td>0.021440</td>\n",
              "      <td>0.027774</td>\n",
              "      <td>0.104343</td>\n",
              "    </tr>\n",
              "  </tbody>\n",
              "</table>\n",
              "</div>\n",
              "      <button class=\"colab-df-convert\" onclick=\"convertToInteractive('df-277bec18-87e1-4472-b666-daa7ca460042')\"\n",
              "              title=\"Convert this dataframe to an interactive table.\"\n",
              "              style=\"display:none;\">\n",
              "        \n",
              "  <svg xmlns=\"http://www.w3.org/2000/svg\" height=\"24px\"viewBox=\"0 0 24 24\"\n",
              "       width=\"24px\">\n",
              "    <path d=\"M0 0h24v24H0V0z\" fill=\"none\"/>\n",
              "    <path d=\"M18.56 5.44l.94 2.06.94-2.06 2.06-.94-2.06-.94-.94-2.06-.94 2.06-2.06.94zm-11 1L8.5 8.5l.94-2.06 2.06-.94-2.06-.94L8.5 2.5l-.94 2.06-2.06.94zm10 10l.94 2.06.94-2.06 2.06-.94-2.06-.94-.94-2.06-.94 2.06-2.06.94z\"/><path d=\"M17.41 7.96l-1.37-1.37c-.4-.4-.92-.59-1.43-.59-.52 0-1.04.2-1.43.59L10.3 9.45l-7.72 7.72c-.78.78-.78 2.05 0 2.83L4 21.41c.39.39.9.59 1.41.59.51 0 1.02-.2 1.41-.59l7.78-7.78 2.81-2.81c.8-.78.8-2.07 0-2.86zM5.41 20L4 18.59l7.72-7.72 1.47 1.35L5.41 20z\"/>\n",
              "  </svg>\n",
              "      </button>\n",
              "      \n",
              "  <style>\n",
              "    .colab-df-container {\n",
              "      display:flex;\n",
              "      flex-wrap:wrap;\n",
              "      gap: 12px;\n",
              "    }\n",
              "\n",
              "    .colab-df-convert {\n",
              "      background-color: #E8F0FE;\n",
              "      border: none;\n",
              "      border-radius: 50%;\n",
              "      cursor: pointer;\n",
              "      display: none;\n",
              "      fill: #1967D2;\n",
              "      height: 32px;\n",
              "      padding: 0 0 0 0;\n",
              "      width: 32px;\n",
              "    }\n",
              "\n",
              "    .colab-df-convert:hover {\n",
              "      background-color: #E2EBFA;\n",
              "      box-shadow: 0px 1px 2px rgba(60, 64, 67, 0.3), 0px 1px 3px 1px rgba(60, 64, 67, 0.15);\n",
              "      fill: #174EA6;\n",
              "    }\n",
              "\n",
              "    [theme=dark] .colab-df-convert {\n",
              "      background-color: #3B4455;\n",
              "      fill: #D2E3FC;\n",
              "    }\n",
              "\n",
              "    [theme=dark] .colab-df-convert:hover {\n",
              "      background-color: #434B5C;\n",
              "      box-shadow: 0px 1px 3px 1px rgba(0, 0, 0, 0.15);\n",
              "      filter: drop-shadow(0px 1px 2px rgba(0, 0, 0, 0.3));\n",
              "      fill: #FFFFFF;\n",
              "    }\n",
              "  </style>\n",
              "\n",
              "      <script>\n",
              "        const buttonEl =\n",
              "          document.querySelector('#df-277bec18-87e1-4472-b666-daa7ca460042 button.colab-df-convert');\n",
              "        buttonEl.style.display =\n",
              "          google.colab.kernel.accessAllowed ? 'block' : 'none';\n",
              "\n",
              "        async function convertToInteractive(key) {\n",
              "          const element = document.querySelector('#df-277bec18-87e1-4472-b666-daa7ca460042');\n",
              "          const dataTable =\n",
              "            await google.colab.kernel.invokeFunction('convertToInteractive',\n",
              "                                                     [key], {});\n",
              "          if (!dataTable) return;\n",
              "\n",
              "          const docLinkHtml = 'Like what you see? Visit the ' +\n",
              "            '<a target=\"_blank\" href=https://colab.research.google.com/notebooks/data_table.ipynb>data table notebook</a>'\n",
              "            + ' to learn more about interactive tables.';\n",
              "          element.innerHTML = '';\n",
              "          dataTable['output_type'] = 'display_data';\n",
              "          await google.colab.output.renderOutput(dataTable, element);\n",
              "          const docLink = document.createElement('div');\n",
              "          docLink.innerHTML = docLinkHtml;\n",
              "          element.appendChild(docLink);\n",
              "        }\n",
              "      </script>\n",
              "    </div>\n",
              "  </div>\n",
              "  "
            ]
          },
          "metadata": {},
          "execution_count": 38
        }
      ]
    },
    {
      "cell_type": "code",
      "source": [
        "covariance_mkt= annualised_cov.iloc[0,1]\n",
        "covariance_mkt"
      ],
      "metadata": {
        "colab": {
          "base_uri": "https://localhost:8080/"
        },
        "id": "EbYcY8LYw88a",
        "outputId": "f5aa591b-c100-4aff-d276-37b176bd64a6"
      },
      "execution_count": 39,
      "outputs": [
        {
          "output_type": "execute_result",
          "data": {
            "text/plain": [
              "0.03373144960149097"
            ]
          },
          "metadata": {},
          "execution_count": 39
        }
      ]
    },
    {
      "cell_type": "code",
      "source": [
        "portfolio_weights= np.array([0.25,0.25,0.25,0.25])"
      ],
      "metadata": {
        "id": "ipFYdodyErXN"
      },
      "execution_count": 40,
      "outputs": []
    },
    {
      "cell_type": "code",
      "source": [
        "portfolio_return_weighted= Portfolio_return.mul(portfolio_weights, axis=1)\n",
        "portfolio_return_weighted"
      ],
      "metadata": {
        "colab": {
          "base_uri": "https://localhost:8080/",
          "height": 455
        },
        "id": "sdtCx4D8Fb9D",
        "outputId": "9965912b-7fc3-49d0-af4b-c1e6d03dc8fc"
      },
      "execution_count": 41,
      "outputs": [
        {
          "output_type": "execute_result",
          "data": {
            "text/plain": [
              "             BPCL.NS    ITC.NS  RELIANCE.NS  SUNPHARMA.NS\n",
              "Date                                                     \n",
              "2017-08-14       NaN       NaN          NaN           NaN\n",
              "2017-08-16  0.252927  0.257327     0.248895      0.257365\n",
              "2017-08-17  0.255037  0.250716     0.250160      0.251313\n",
              "2017-08-18  0.254861  0.251652     0.251324      0.240732\n",
              "2017-08-21  0.247243  0.249778     0.248254      0.244895\n",
              "...              ...       ...          ...           ...\n",
              "2022-08-05  0.251834  0.251090     0.246316      0.249306\n",
              "2022-08-08  0.242011  0.251850     0.253271      0.248485\n",
              "2022-08-10  0.252034  0.248443     0.251495      0.252554\n",
              "2022-08-11  0.250038  0.246023     0.250833      0.250367\n",
              "2022-08-12  0.254226  0.251878     0.254043      0.247937\n",
              "\n",
              "[1236 rows x 4 columns]"
            ],
            "text/html": [
              "\n",
              "  <div id=\"df-0fb417b2-5d48-4f84-a870-af2aa9d99325\">\n",
              "    <div class=\"colab-df-container\">\n",
              "      <div>\n",
              "<style scoped>\n",
              "    .dataframe tbody tr th:only-of-type {\n",
              "        vertical-align: middle;\n",
              "    }\n",
              "\n",
              "    .dataframe tbody tr th {\n",
              "        vertical-align: top;\n",
              "    }\n",
              "\n",
              "    .dataframe thead th {\n",
              "        text-align: right;\n",
              "    }\n",
              "</style>\n",
              "<table border=\"1\" class=\"dataframe\">\n",
              "  <thead>\n",
              "    <tr style=\"text-align: right;\">\n",
              "      <th></th>\n",
              "      <th>BPCL.NS</th>\n",
              "      <th>ITC.NS</th>\n",
              "      <th>RELIANCE.NS</th>\n",
              "      <th>SUNPHARMA.NS</th>\n",
              "    </tr>\n",
              "    <tr>\n",
              "      <th>Date</th>\n",
              "      <th></th>\n",
              "      <th></th>\n",
              "      <th></th>\n",
              "      <th></th>\n",
              "    </tr>\n",
              "  </thead>\n",
              "  <tbody>\n",
              "    <tr>\n",
              "      <th>2017-08-14</th>\n",
              "      <td>NaN</td>\n",
              "      <td>NaN</td>\n",
              "      <td>NaN</td>\n",
              "      <td>NaN</td>\n",
              "    </tr>\n",
              "    <tr>\n",
              "      <th>2017-08-16</th>\n",
              "      <td>0.252927</td>\n",
              "      <td>0.257327</td>\n",
              "      <td>0.248895</td>\n",
              "      <td>0.257365</td>\n",
              "    </tr>\n",
              "    <tr>\n",
              "      <th>2017-08-17</th>\n",
              "      <td>0.255037</td>\n",
              "      <td>0.250716</td>\n",
              "      <td>0.250160</td>\n",
              "      <td>0.251313</td>\n",
              "    </tr>\n",
              "    <tr>\n",
              "      <th>2017-08-18</th>\n",
              "      <td>0.254861</td>\n",
              "      <td>0.251652</td>\n",
              "      <td>0.251324</td>\n",
              "      <td>0.240732</td>\n",
              "    </tr>\n",
              "    <tr>\n",
              "      <th>2017-08-21</th>\n",
              "      <td>0.247243</td>\n",
              "      <td>0.249778</td>\n",
              "      <td>0.248254</td>\n",
              "      <td>0.244895</td>\n",
              "    </tr>\n",
              "    <tr>\n",
              "      <th>...</th>\n",
              "      <td>...</td>\n",
              "      <td>...</td>\n",
              "      <td>...</td>\n",
              "      <td>...</td>\n",
              "    </tr>\n",
              "    <tr>\n",
              "      <th>2022-08-05</th>\n",
              "      <td>0.251834</td>\n",
              "      <td>0.251090</td>\n",
              "      <td>0.246316</td>\n",
              "      <td>0.249306</td>\n",
              "    </tr>\n",
              "    <tr>\n",
              "      <th>2022-08-08</th>\n",
              "      <td>0.242011</td>\n",
              "      <td>0.251850</td>\n",
              "      <td>0.253271</td>\n",
              "      <td>0.248485</td>\n",
              "    </tr>\n",
              "    <tr>\n",
              "      <th>2022-08-10</th>\n",
              "      <td>0.252034</td>\n",
              "      <td>0.248443</td>\n",
              "      <td>0.251495</td>\n",
              "      <td>0.252554</td>\n",
              "    </tr>\n",
              "    <tr>\n",
              "      <th>2022-08-11</th>\n",
              "      <td>0.250038</td>\n",
              "      <td>0.246023</td>\n",
              "      <td>0.250833</td>\n",
              "      <td>0.250367</td>\n",
              "    </tr>\n",
              "    <tr>\n",
              "      <th>2022-08-12</th>\n",
              "      <td>0.254226</td>\n",
              "      <td>0.251878</td>\n",
              "      <td>0.254043</td>\n",
              "      <td>0.247937</td>\n",
              "    </tr>\n",
              "  </tbody>\n",
              "</table>\n",
              "<p>1236 rows × 4 columns</p>\n",
              "</div>\n",
              "      <button class=\"colab-df-convert\" onclick=\"convertToInteractive('df-0fb417b2-5d48-4f84-a870-af2aa9d99325')\"\n",
              "              title=\"Convert this dataframe to an interactive table.\"\n",
              "              style=\"display:none;\">\n",
              "        \n",
              "  <svg xmlns=\"http://www.w3.org/2000/svg\" height=\"24px\"viewBox=\"0 0 24 24\"\n",
              "       width=\"24px\">\n",
              "    <path d=\"M0 0h24v24H0V0z\" fill=\"none\"/>\n",
              "    <path d=\"M18.56 5.44l.94 2.06.94-2.06 2.06-.94-2.06-.94-.94-2.06-.94 2.06-2.06.94zm-11 1L8.5 8.5l.94-2.06 2.06-.94-2.06-.94L8.5 2.5l-.94 2.06-2.06.94zm10 10l.94 2.06.94-2.06 2.06-.94-2.06-.94-.94-2.06-.94 2.06-2.06.94z\"/><path d=\"M17.41 7.96l-1.37-1.37c-.4-.4-.92-.59-1.43-.59-.52 0-1.04.2-1.43.59L10.3 9.45l-7.72 7.72c-.78.78-.78 2.05 0 2.83L4 21.41c.39.39.9.59 1.41.59.51 0 1.02-.2 1.41-.59l7.78-7.78 2.81-2.81c.8-.78.8-2.07 0-2.86zM5.41 20L4 18.59l7.72-7.72 1.47 1.35L5.41 20z\"/>\n",
              "  </svg>\n",
              "      </button>\n",
              "      \n",
              "  <style>\n",
              "    .colab-df-container {\n",
              "      display:flex;\n",
              "      flex-wrap:wrap;\n",
              "      gap: 12px;\n",
              "    }\n",
              "\n",
              "    .colab-df-convert {\n",
              "      background-color: #E8F0FE;\n",
              "      border: none;\n",
              "      border-radius: 50%;\n",
              "      cursor: pointer;\n",
              "      display: none;\n",
              "      fill: #1967D2;\n",
              "      height: 32px;\n",
              "      padding: 0 0 0 0;\n",
              "      width: 32px;\n",
              "    }\n",
              "\n",
              "    .colab-df-convert:hover {\n",
              "      background-color: #E2EBFA;\n",
              "      box-shadow: 0px 1px 2px rgba(60, 64, 67, 0.3), 0px 1px 3px 1px rgba(60, 64, 67, 0.15);\n",
              "      fill: #174EA6;\n",
              "    }\n",
              "\n",
              "    [theme=dark] .colab-df-convert {\n",
              "      background-color: #3B4455;\n",
              "      fill: #D2E3FC;\n",
              "    }\n",
              "\n",
              "    [theme=dark] .colab-df-convert:hover {\n",
              "      background-color: #434B5C;\n",
              "      box-shadow: 0px 1px 3px 1px rgba(0, 0, 0, 0.15);\n",
              "      filter: drop-shadow(0px 1px 2px rgba(0, 0, 0, 0.3));\n",
              "      fill: #FFFFFF;\n",
              "    }\n",
              "  </style>\n",
              "\n",
              "      <script>\n",
              "        const buttonEl =\n",
              "          document.querySelector('#df-0fb417b2-5d48-4f84-a870-af2aa9d99325 button.colab-df-convert');\n",
              "        buttonEl.style.display =\n",
              "          google.colab.kernel.accessAllowed ? 'block' : 'none';\n",
              "\n",
              "        async function convertToInteractive(key) {\n",
              "          const element = document.querySelector('#df-0fb417b2-5d48-4f84-a870-af2aa9d99325');\n",
              "          const dataTable =\n",
              "            await google.colab.kernel.invokeFunction('convertToInteractive',\n",
              "                                                     [key], {});\n",
              "          if (!dataTable) return;\n",
              "\n",
              "          const docLinkHtml = 'Like what you see? Visit the ' +\n",
              "            '<a target=\"_blank\" href=https://colab.research.google.com/notebooks/data_table.ipynb>data table notebook</a>'\n",
              "            + ' to learn more about interactive tables.';\n",
              "          element.innerHTML = '';\n",
              "          dataTable['output_type'] = 'display_data';\n",
              "          await google.colab.output.renderOutput(dataTable, element);\n",
              "          const docLink = document.createElement('div');\n",
              "          docLink.innerHTML = docLinkHtml;\n",
              "          element.appendChild(docLink);\n",
              "        }\n",
              "      </script>\n",
              "    </div>\n",
              "  </div>\n",
              "  "
            ]
          },
          "metadata": {},
          "execution_count": 41
        }
      ]
    },
    {
      "cell_type": "code",
      "source": [
        "Portfolio_return['Portfolio']= portfolio_return_weighted.sum(axis=1).dropna()\n",
        "Portfolio_return"
      ],
      "metadata": {
        "colab": {
          "base_uri": "https://localhost:8080/",
          "height": 455
        },
        "id": "7oxoteTbFwRV",
        "outputId": "9791eb32-0284-4940-ff73-efb3bcc6f620"
      },
      "execution_count": 42,
      "outputs": [
        {
          "output_type": "execute_result",
          "data": {
            "text/plain": [
              "             BPCL.NS    ITC.NS  RELIANCE.NS  SUNPHARMA.NS  Portfolio\n",
              "Date                                                                \n",
              "2017-08-14       NaN       NaN          NaN           NaN   0.000000\n",
              "2017-08-16  1.011707  1.029309     0.995582      1.029462   1.016515\n",
              "2017-08-17  1.020147  1.002865     1.000639      1.005250   1.007225\n",
              "2017-08-18  1.019445  1.006607     1.005296      0.962929   0.998569\n",
              "2017-08-21  0.988973  0.999113     0.993018      0.979581   0.990171\n",
              "...              ...       ...          ...           ...        ...\n",
              "2022-08-05  1.007336  1.004362     0.985264      0.997224   0.998546\n",
              "2022-08-08  0.968044  1.007399     1.013082      0.993941   0.995616\n",
              "2022-08-10  1.008138  0.993773     1.005979      1.010215   1.004526\n",
              "2022-08-11  1.000152  0.984094     1.003330      1.001468   0.997261\n",
              "2022-08-12  1.016903  1.007510     1.016171      0.991749   1.008083\n",
              "\n",
              "[1236 rows x 5 columns]"
            ],
            "text/html": [
              "\n",
              "  <div id=\"df-d15137d5-d56e-4c01-9fcc-cdbdedeb8e20\">\n",
              "    <div class=\"colab-df-container\">\n",
              "      <div>\n",
              "<style scoped>\n",
              "    .dataframe tbody tr th:only-of-type {\n",
              "        vertical-align: middle;\n",
              "    }\n",
              "\n",
              "    .dataframe tbody tr th {\n",
              "        vertical-align: top;\n",
              "    }\n",
              "\n",
              "    .dataframe thead th {\n",
              "        text-align: right;\n",
              "    }\n",
              "</style>\n",
              "<table border=\"1\" class=\"dataframe\">\n",
              "  <thead>\n",
              "    <tr style=\"text-align: right;\">\n",
              "      <th></th>\n",
              "      <th>BPCL.NS</th>\n",
              "      <th>ITC.NS</th>\n",
              "      <th>RELIANCE.NS</th>\n",
              "      <th>SUNPHARMA.NS</th>\n",
              "      <th>Portfolio</th>\n",
              "    </tr>\n",
              "    <tr>\n",
              "      <th>Date</th>\n",
              "      <th></th>\n",
              "      <th></th>\n",
              "      <th></th>\n",
              "      <th></th>\n",
              "      <th></th>\n",
              "    </tr>\n",
              "  </thead>\n",
              "  <tbody>\n",
              "    <tr>\n",
              "      <th>2017-08-14</th>\n",
              "      <td>NaN</td>\n",
              "      <td>NaN</td>\n",
              "      <td>NaN</td>\n",
              "      <td>NaN</td>\n",
              "      <td>0.000000</td>\n",
              "    </tr>\n",
              "    <tr>\n",
              "      <th>2017-08-16</th>\n",
              "      <td>1.011707</td>\n",
              "      <td>1.029309</td>\n",
              "      <td>0.995582</td>\n",
              "      <td>1.029462</td>\n",
              "      <td>1.016515</td>\n",
              "    </tr>\n",
              "    <tr>\n",
              "      <th>2017-08-17</th>\n",
              "      <td>1.020147</td>\n",
              "      <td>1.002865</td>\n",
              "      <td>1.000639</td>\n",
              "      <td>1.005250</td>\n",
              "      <td>1.007225</td>\n",
              "    </tr>\n",
              "    <tr>\n",
              "      <th>2017-08-18</th>\n",
              "      <td>1.019445</td>\n",
              "      <td>1.006607</td>\n",
              "      <td>1.005296</td>\n",
              "      <td>0.962929</td>\n",
              "      <td>0.998569</td>\n",
              "    </tr>\n",
              "    <tr>\n",
              "      <th>2017-08-21</th>\n",
              "      <td>0.988973</td>\n",
              "      <td>0.999113</td>\n",
              "      <td>0.993018</td>\n",
              "      <td>0.979581</td>\n",
              "      <td>0.990171</td>\n",
              "    </tr>\n",
              "    <tr>\n",
              "      <th>...</th>\n",
              "      <td>...</td>\n",
              "      <td>...</td>\n",
              "      <td>...</td>\n",
              "      <td>...</td>\n",
              "      <td>...</td>\n",
              "    </tr>\n",
              "    <tr>\n",
              "      <th>2022-08-05</th>\n",
              "      <td>1.007336</td>\n",
              "      <td>1.004362</td>\n",
              "      <td>0.985264</td>\n",
              "      <td>0.997224</td>\n",
              "      <td>0.998546</td>\n",
              "    </tr>\n",
              "    <tr>\n",
              "      <th>2022-08-08</th>\n",
              "      <td>0.968044</td>\n",
              "      <td>1.007399</td>\n",
              "      <td>1.013082</td>\n",
              "      <td>0.993941</td>\n",
              "      <td>0.995616</td>\n",
              "    </tr>\n",
              "    <tr>\n",
              "      <th>2022-08-10</th>\n",
              "      <td>1.008138</td>\n",
              "      <td>0.993773</td>\n",
              "      <td>1.005979</td>\n",
              "      <td>1.010215</td>\n",
              "      <td>1.004526</td>\n",
              "    </tr>\n",
              "    <tr>\n",
              "      <th>2022-08-11</th>\n",
              "      <td>1.000152</td>\n",
              "      <td>0.984094</td>\n",
              "      <td>1.003330</td>\n",
              "      <td>1.001468</td>\n",
              "      <td>0.997261</td>\n",
              "    </tr>\n",
              "    <tr>\n",
              "      <th>2022-08-12</th>\n",
              "      <td>1.016903</td>\n",
              "      <td>1.007510</td>\n",
              "      <td>1.016171</td>\n",
              "      <td>0.991749</td>\n",
              "      <td>1.008083</td>\n",
              "    </tr>\n",
              "  </tbody>\n",
              "</table>\n",
              "<p>1236 rows × 5 columns</p>\n",
              "</div>\n",
              "      <button class=\"colab-df-convert\" onclick=\"convertToInteractive('df-d15137d5-d56e-4c01-9fcc-cdbdedeb8e20')\"\n",
              "              title=\"Convert this dataframe to an interactive table.\"\n",
              "              style=\"display:none;\">\n",
              "        \n",
              "  <svg xmlns=\"http://www.w3.org/2000/svg\" height=\"24px\"viewBox=\"0 0 24 24\"\n",
              "       width=\"24px\">\n",
              "    <path d=\"M0 0h24v24H0V0z\" fill=\"none\"/>\n",
              "    <path d=\"M18.56 5.44l.94 2.06.94-2.06 2.06-.94-2.06-.94-.94-2.06-.94 2.06-2.06.94zm-11 1L8.5 8.5l.94-2.06 2.06-.94-2.06-.94L8.5 2.5l-.94 2.06-2.06.94zm10 10l.94 2.06.94-2.06 2.06-.94-2.06-.94-.94-2.06-.94 2.06-2.06.94z\"/><path d=\"M17.41 7.96l-1.37-1.37c-.4-.4-.92-.59-1.43-.59-.52 0-1.04.2-1.43.59L10.3 9.45l-7.72 7.72c-.78.78-.78 2.05 0 2.83L4 21.41c.39.39.9.59 1.41.59.51 0 1.02-.2 1.41-.59l7.78-7.78 2.81-2.81c.8-.78.8-2.07 0-2.86zM5.41 20L4 18.59l7.72-7.72 1.47 1.35L5.41 20z\"/>\n",
              "  </svg>\n",
              "      </button>\n",
              "      \n",
              "  <style>\n",
              "    .colab-df-container {\n",
              "      display:flex;\n",
              "      flex-wrap:wrap;\n",
              "      gap: 12px;\n",
              "    }\n",
              "\n",
              "    .colab-df-convert {\n",
              "      background-color: #E8F0FE;\n",
              "      border: none;\n",
              "      border-radius: 50%;\n",
              "      cursor: pointer;\n",
              "      display: none;\n",
              "      fill: #1967D2;\n",
              "      height: 32px;\n",
              "      padding: 0 0 0 0;\n",
              "      width: 32px;\n",
              "    }\n",
              "\n",
              "    .colab-df-convert:hover {\n",
              "      background-color: #E2EBFA;\n",
              "      box-shadow: 0px 1px 2px rgba(60, 64, 67, 0.3), 0px 1px 3px 1px rgba(60, 64, 67, 0.15);\n",
              "      fill: #174EA6;\n",
              "    }\n",
              "\n",
              "    [theme=dark] .colab-df-convert {\n",
              "      background-color: #3B4455;\n",
              "      fill: #D2E3FC;\n",
              "    }\n",
              "\n",
              "    [theme=dark] .colab-df-convert:hover {\n",
              "      background-color: #434B5C;\n",
              "      box-shadow: 0px 1px 3px 1px rgba(0, 0, 0, 0.15);\n",
              "      filter: drop-shadow(0px 1px 2px rgba(0, 0, 0, 0.3));\n",
              "      fill: #FFFFFF;\n",
              "    }\n",
              "  </style>\n",
              "\n",
              "      <script>\n",
              "        const buttonEl =\n",
              "          document.querySelector('#df-d15137d5-d56e-4c01-9fcc-cdbdedeb8e20 button.colab-df-convert');\n",
              "        buttonEl.style.display =\n",
              "          google.colab.kernel.accessAllowed ? 'block' : 'none';\n",
              "\n",
              "        async function convertToInteractive(key) {\n",
              "          const element = document.querySelector('#df-d15137d5-d56e-4c01-9fcc-cdbdedeb8e20');\n",
              "          const dataTable =\n",
              "            await google.colab.kernel.invokeFunction('convertToInteractive',\n",
              "                                                     [key], {});\n",
              "          if (!dataTable) return;\n",
              "\n",
              "          const docLinkHtml = 'Like what you see? Visit the ' +\n",
              "            '<a target=\"_blank\" href=https://colab.research.google.com/notebooks/data_table.ipynb>data table notebook</a>'\n",
              "            + ' to learn more about interactive tables.';\n",
              "          element.innerHTML = '';\n",
              "          dataTable['output_type'] = 'display_data';\n",
              "          await google.colab.output.renderOutput(dataTable, element);\n",
              "          const docLink = document.createElement('div');\n",
              "          docLink.innerHTML = docLinkHtml;\n",
              "          element.appendChild(docLink);\n",
              "        }\n",
              "      </script>\n",
              "    </div>\n",
              "  </div>\n",
              "  "
            ]
          },
          "metadata": {},
          "execution_count": 42
        }
      ]
    },
    {
      "cell_type": "code",
      "source": [
        "tickers='NIFTYBEES.NS'\n",
        "NIFTY50 = yf.download(tickers=tickers, period='5y')\n",
        "Portfolio_return['Benchmark']= NIFTY50['Close']"
      ],
      "metadata": {
        "colab": {
          "base_uri": "https://localhost:8080/"
        },
        "id": "FwS1E3CFGmxP",
        "outputId": "1fe9a5ac-663a-4833-eb56-70079cb2fcb9"
      },
      "execution_count": 43,
      "outputs": [
        {
          "output_type": "stream",
          "name": "stdout",
          "text": [
            "\r[*********************100%***********************]  1 of 1 completed\n"
          ]
        }
      ]
    },
    {
      "cell_type": "code",
      "source": [
        "Portfolio_return['Benchmark']= Portfolio_return['Benchmark'].pct_change(1).dropna()\n",
        "Portfolio_return= Portfolio_return.dropna()"
      ],
      "metadata": {
        "id": "htC0xfgFGLKe"
      },
      "execution_count": 44,
      "outputs": []
    },
    {
      "cell_type": "code",
      "source": [
        "Portfolio_return['RF Rate']=0.073\n",
        "Portfolio_return"
      ],
      "metadata": {
        "colab": {
          "base_uri": "https://localhost:8080/",
          "height": 559
        },
        "id": "1_5SuEznHWup",
        "outputId": "8ed76ea5-f3f3-420e-88f9-ad0f698ad45b"
      },
      "execution_count": 45,
      "outputs": [
        {
          "output_type": "stream",
          "name": "stderr",
          "text": [
            "/usr/local/lib/python3.7/dist-packages/ipykernel_launcher.py:1: SettingWithCopyWarning: \n",
            "A value is trying to be set on a copy of a slice from a DataFrame.\n",
            "Try using .loc[row_indexer,col_indexer] = value instead\n",
            "\n",
            "See the caveats in the documentation: https://pandas.pydata.org/pandas-docs/stable/user_guide/indexing.html#returning-a-view-versus-a-copy\n",
            "  \"\"\"Entry point for launching an IPython kernel.\n"
          ]
        },
        {
          "output_type": "execute_result",
          "data": {
            "text/plain": [
              "             BPCL.NS    ITC.NS  RELIANCE.NS  SUNPHARMA.NS  Portfolio  \\\n",
              "Date                                                                   \n",
              "2017-08-16  1.011707  1.029309     0.995582      1.029462   1.016515   \n",
              "2017-08-17  1.020147  1.002865     1.000639      1.005250   1.007225   \n",
              "2017-08-18  1.019445  1.006607     1.005296      0.962929   0.998569   \n",
              "2017-08-21  0.988973  0.999113     0.993018      0.979581   0.990171   \n",
              "2017-08-22  1.025314  1.004616     0.997219      1.021496   1.012161   \n",
              "...              ...       ...          ...           ...        ...   \n",
              "2022-08-05  1.007336  1.004362     0.985264      0.997224   0.998546   \n",
              "2022-08-08  0.968044  1.007399     1.013082      0.993941   0.995616   \n",
              "2022-08-10  1.008138  0.993773     1.005979      1.010215   1.004526   \n",
              "2022-08-11  1.000152  0.984094     1.003330      1.001468   0.997261   \n",
              "2022-08-12  1.016903  1.007510     1.016171      0.991749   1.008083   \n",
              "\n",
              "            Benchmark  RF Rate  \n",
              "Date                            \n",
              "2017-08-16   0.011384    0.073  \n",
              "2017-08-17   0.000745    0.073  \n",
              "2017-08-18  -0.005403    0.073  \n",
              "2017-08-21  -0.009950    0.073  \n",
              "2017-08-22   0.001511    0.073  \n",
              "...               ...      ...  \n",
              "2022-08-05   0.000423    0.073  \n",
              "2022-08-08   0.008137    0.073  \n",
              "2022-08-10   0.001310    0.073  \n",
              "2022-08-11   0.006805    0.073  \n",
              "2022-08-12   0.002704    0.073  \n",
              "\n",
              "[1235 rows x 7 columns]"
            ],
            "text/html": [
              "\n",
              "  <div id=\"df-d8fb4763-012c-4557-918b-ffad512b89c4\">\n",
              "    <div class=\"colab-df-container\">\n",
              "      <div>\n",
              "<style scoped>\n",
              "    .dataframe tbody tr th:only-of-type {\n",
              "        vertical-align: middle;\n",
              "    }\n",
              "\n",
              "    .dataframe tbody tr th {\n",
              "        vertical-align: top;\n",
              "    }\n",
              "\n",
              "    .dataframe thead th {\n",
              "        text-align: right;\n",
              "    }\n",
              "</style>\n",
              "<table border=\"1\" class=\"dataframe\">\n",
              "  <thead>\n",
              "    <tr style=\"text-align: right;\">\n",
              "      <th></th>\n",
              "      <th>BPCL.NS</th>\n",
              "      <th>ITC.NS</th>\n",
              "      <th>RELIANCE.NS</th>\n",
              "      <th>SUNPHARMA.NS</th>\n",
              "      <th>Portfolio</th>\n",
              "      <th>Benchmark</th>\n",
              "      <th>RF Rate</th>\n",
              "    </tr>\n",
              "    <tr>\n",
              "      <th>Date</th>\n",
              "      <th></th>\n",
              "      <th></th>\n",
              "      <th></th>\n",
              "      <th></th>\n",
              "      <th></th>\n",
              "      <th></th>\n",
              "      <th></th>\n",
              "    </tr>\n",
              "  </thead>\n",
              "  <tbody>\n",
              "    <tr>\n",
              "      <th>2017-08-16</th>\n",
              "      <td>1.011707</td>\n",
              "      <td>1.029309</td>\n",
              "      <td>0.995582</td>\n",
              "      <td>1.029462</td>\n",
              "      <td>1.016515</td>\n",
              "      <td>0.011384</td>\n",
              "      <td>0.073</td>\n",
              "    </tr>\n",
              "    <tr>\n",
              "      <th>2017-08-17</th>\n",
              "      <td>1.020147</td>\n",
              "      <td>1.002865</td>\n",
              "      <td>1.000639</td>\n",
              "      <td>1.005250</td>\n",
              "      <td>1.007225</td>\n",
              "      <td>0.000745</td>\n",
              "      <td>0.073</td>\n",
              "    </tr>\n",
              "    <tr>\n",
              "      <th>2017-08-18</th>\n",
              "      <td>1.019445</td>\n",
              "      <td>1.006607</td>\n",
              "      <td>1.005296</td>\n",
              "      <td>0.962929</td>\n",
              "      <td>0.998569</td>\n",
              "      <td>-0.005403</td>\n",
              "      <td>0.073</td>\n",
              "    </tr>\n",
              "    <tr>\n",
              "      <th>2017-08-21</th>\n",
              "      <td>0.988973</td>\n",
              "      <td>0.999113</td>\n",
              "      <td>0.993018</td>\n",
              "      <td>0.979581</td>\n",
              "      <td>0.990171</td>\n",
              "      <td>-0.009950</td>\n",
              "      <td>0.073</td>\n",
              "    </tr>\n",
              "    <tr>\n",
              "      <th>2017-08-22</th>\n",
              "      <td>1.025314</td>\n",
              "      <td>1.004616</td>\n",
              "      <td>0.997219</td>\n",
              "      <td>1.021496</td>\n",
              "      <td>1.012161</td>\n",
              "      <td>0.001511</td>\n",
              "      <td>0.073</td>\n",
              "    </tr>\n",
              "    <tr>\n",
              "      <th>...</th>\n",
              "      <td>...</td>\n",
              "      <td>...</td>\n",
              "      <td>...</td>\n",
              "      <td>...</td>\n",
              "      <td>...</td>\n",
              "      <td>...</td>\n",
              "      <td>...</td>\n",
              "    </tr>\n",
              "    <tr>\n",
              "      <th>2022-08-05</th>\n",
              "      <td>1.007336</td>\n",
              "      <td>1.004362</td>\n",
              "      <td>0.985264</td>\n",
              "      <td>0.997224</td>\n",
              "      <td>0.998546</td>\n",
              "      <td>0.000423</td>\n",
              "      <td>0.073</td>\n",
              "    </tr>\n",
              "    <tr>\n",
              "      <th>2022-08-08</th>\n",
              "      <td>0.968044</td>\n",
              "      <td>1.007399</td>\n",
              "      <td>1.013082</td>\n",
              "      <td>0.993941</td>\n",
              "      <td>0.995616</td>\n",
              "      <td>0.008137</td>\n",
              "      <td>0.073</td>\n",
              "    </tr>\n",
              "    <tr>\n",
              "      <th>2022-08-10</th>\n",
              "      <td>1.008138</td>\n",
              "      <td>0.993773</td>\n",
              "      <td>1.005979</td>\n",
              "      <td>1.010215</td>\n",
              "      <td>1.004526</td>\n",
              "      <td>0.001310</td>\n",
              "      <td>0.073</td>\n",
              "    </tr>\n",
              "    <tr>\n",
              "      <th>2022-08-11</th>\n",
              "      <td>1.000152</td>\n",
              "      <td>0.984094</td>\n",
              "      <td>1.003330</td>\n",
              "      <td>1.001468</td>\n",
              "      <td>0.997261</td>\n",
              "      <td>0.006805</td>\n",
              "      <td>0.073</td>\n",
              "    </tr>\n",
              "    <tr>\n",
              "      <th>2022-08-12</th>\n",
              "      <td>1.016903</td>\n",
              "      <td>1.007510</td>\n",
              "      <td>1.016171</td>\n",
              "      <td>0.991749</td>\n",
              "      <td>1.008083</td>\n",
              "      <td>0.002704</td>\n",
              "      <td>0.073</td>\n",
              "    </tr>\n",
              "  </tbody>\n",
              "</table>\n",
              "<p>1235 rows × 7 columns</p>\n",
              "</div>\n",
              "      <button class=\"colab-df-convert\" onclick=\"convertToInteractive('df-d8fb4763-012c-4557-918b-ffad512b89c4')\"\n",
              "              title=\"Convert this dataframe to an interactive table.\"\n",
              "              style=\"display:none;\">\n",
              "        \n",
              "  <svg xmlns=\"http://www.w3.org/2000/svg\" height=\"24px\"viewBox=\"0 0 24 24\"\n",
              "       width=\"24px\">\n",
              "    <path d=\"M0 0h24v24H0V0z\" fill=\"none\"/>\n",
              "    <path d=\"M18.56 5.44l.94 2.06.94-2.06 2.06-.94-2.06-.94-.94-2.06-.94 2.06-2.06.94zm-11 1L8.5 8.5l.94-2.06 2.06-.94-2.06-.94L8.5 2.5l-.94 2.06-2.06.94zm10 10l.94 2.06.94-2.06 2.06-.94-2.06-.94-.94-2.06-.94 2.06-2.06.94z\"/><path d=\"M17.41 7.96l-1.37-1.37c-.4-.4-.92-.59-1.43-.59-.52 0-1.04.2-1.43.59L10.3 9.45l-7.72 7.72c-.78.78-.78 2.05 0 2.83L4 21.41c.39.39.9.59 1.41.59.51 0 1.02-.2 1.41-.59l7.78-7.78 2.81-2.81c.8-.78.8-2.07 0-2.86zM5.41 20L4 18.59l7.72-7.72 1.47 1.35L5.41 20z\"/>\n",
              "  </svg>\n",
              "      </button>\n",
              "      \n",
              "  <style>\n",
              "    .colab-df-container {\n",
              "      display:flex;\n",
              "      flex-wrap:wrap;\n",
              "      gap: 12px;\n",
              "    }\n",
              "\n",
              "    .colab-df-convert {\n",
              "      background-color: #E8F0FE;\n",
              "      border: none;\n",
              "      border-radius: 50%;\n",
              "      cursor: pointer;\n",
              "      display: none;\n",
              "      fill: #1967D2;\n",
              "      height: 32px;\n",
              "      padding: 0 0 0 0;\n",
              "      width: 32px;\n",
              "    }\n",
              "\n",
              "    .colab-df-convert:hover {\n",
              "      background-color: #E2EBFA;\n",
              "      box-shadow: 0px 1px 2px rgba(60, 64, 67, 0.3), 0px 1px 3px 1px rgba(60, 64, 67, 0.15);\n",
              "      fill: #174EA6;\n",
              "    }\n",
              "\n",
              "    [theme=dark] .colab-df-convert {\n",
              "      background-color: #3B4455;\n",
              "      fill: #D2E3FC;\n",
              "    }\n",
              "\n",
              "    [theme=dark] .colab-df-convert:hover {\n",
              "      background-color: #434B5C;\n",
              "      box-shadow: 0px 1px 3px 1px rgba(0, 0, 0, 0.15);\n",
              "      filter: drop-shadow(0px 1px 2px rgba(0, 0, 0, 0.3));\n",
              "      fill: #FFFFFF;\n",
              "    }\n",
              "  </style>\n",
              "\n",
              "      <script>\n",
              "        const buttonEl =\n",
              "          document.querySelector('#df-d8fb4763-012c-4557-918b-ffad512b89c4 button.colab-df-convert');\n",
              "        buttonEl.style.display =\n",
              "          google.colab.kernel.accessAllowed ? 'block' : 'none';\n",
              "\n",
              "        async function convertToInteractive(key) {\n",
              "          const element = document.querySelector('#df-d8fb4763-012c-4557-918b-ffad512b89c4');\n",
              "          const dataTable =\n",
              "            await google.colab.kernel.invokeFunction('convertToInteractive',\n",
              "                                                     [key], {});\n",
              "          if (!dataTable) return;\n",
              "\n",
              "          const docLinkHtml = 'Like what you see? Visit the ' +\n",
              "            '<a target=\"_blank\" href=https://colab.research.google.com/notebooks/data_table.ipynb>data table notebook</a>'\n",
              "            + ' to learn more about interactive tables.';\n",
              "          element.innerHTML = '';\n",
              "          dataTable['output_type'] = 'display_data';\n",
              "          await google.colab.output.renderOutput(dataTable, element);\n",
              "          const docLink = document.createElement('div');\n",
              "          docLink.innerHTML = docLinkHtml;\n",
              "          element.appendChild(docLink);\n",
              "        }\n",
              "      </script>\n",
              "    </div>\n",
              "  </div>\n",
              "  "
            ]
          },
          "metadata": {},
          "execution_count": 45
        }
      ]
    },
    {
      "cell_type": "code",
      "source": [
        "Covariance_portfolio=Portfolio_return.cov()*252"
      ],
      "metadata": {
        "id": "wOWf9CCRHuf_"
      },
      "execution_count": 46,
      "outputs": []
    },
    {
      "cell_type": "code",
      "source": [
        "covariance_market= Covariance_portfolio.iloc[3,4]\n",
        "covariance_market"
      ],
      "metadata": {
        "colab": {
          "base_uri": "https://localhost:8080/"
        },
        "id": "bo4kqG5KIX3F",
        "outputId": "ac6e0df2-d8c8-424b-9cde-0591ac99165d"
      },
      "execution_count": 47,
      "outputs": [
        {
          "output_type": "execute_result",
          "data": {
            "text/plain": [
              "0.04584519005332168"
            ]
          },
          "metadata": {},
          "execution_count": 47
        }
      ]
    },
    {
      "cell_type": "code",
      "source": [
        "Market_variance= Portfolio_return['Benchmark'].var()*252\n",
        "Market_variance"
      ],
      "metadata": {
        "colab": {
          "base_uri": "https://localhost:8080/"
        },
        "id": "9EaTbwkxIxxB",
        "outputId": "26882126-67bf-480c-b86f-00e9ee085c4d"
      },
      "execution_count": 48,
      "outputs": [
        {
          "output_type": "execute_result",
          "data": {
            "text/plain": [
              "16.60810364196477"
            ]
          },
          "metadata": {},
          "execution_count": 48
        }
      ]
    },
    {
      "cell_type": "code",
      "source": [
        "portfolio_beta= covariance_market/Market_variance\n",
        "portfolio_beta"
      ],
      "metadata": {
        "colab": {
          "base_uri": "https://localhost:8080/"
        },
        "id": "oj18s9KLJkvx",
        "outputId": "a4386f1c-dddf-4737-aa95-72ebe2fd6c40"
      },
      "execution_count": 49,
      "outputs": [
        {
          "output_type": "execute_result",
          "data": {
            "text/plain": [
              "0.0027604108838459843"
            ]
          },
          "metadata": {},
          "execution_count": 49
        }
      ]
    },
    {
      "cell_type": "code",
      "source": [
        "Portfolio_return_mean= Portfolio_return['Portfolio'].mean()"
      ],
      "metadata": {
        "id": "yO3qEKH-KPbp"
      },
      "execution_count": 50,
      "outputs": []
    },
    {
      "cell_type": "code",
      "source": [
        "risk_free_rate= 0.073"
      ],
      "metadata": {
        "id": "wJk1twCyKM1U"
      },
      "execution_count": 51,
      "outputs": []
    },
    {
      "cell_type": "code",
      "source": [
        "alpha= Portfolio_return -( risk_free_rate+portfolio_beta*(Portfolio_return-risk_free_rate))\n",
        "alpha"
      ],
      "metadata": {
        "colab": {
          "base_uri": "https://localhost:8080/",
          "height": 455
        },
        "id": "sAEYJl80K4oP",
        "outputId": "7213656c-7a0d-41ba-f03c-58fe25b6e0cc"
      },
      "execution_count": 52,
      "outputs": [
        {
          "output_type": "execute_result",
          "data": {
            "text/plain": [
              "             BPCL.NS    ITC.NS  RELIANCE.NS  SUNPHARMA.NS  Portfolio  \\\n",
              "Date                                                                   \n",
              "2017-08-16  0.936116  0.953669     0.920035      0.953821   0.940910   \n",
              "2017-08-17  0.944532  0.927298     0.925078      0.929677   0.931646   \n",
              "2017-08-18  0.943832  0.931030     0.929723      0.887472   0.923014   \n",
              "2017-08-21  0.913444  0.923557     0.917478      0.904078   0.914639   \n",
              "2017-08-22  0.949685  0.929045     0.921668      0.945878   0.936569   \n",
              "...              ...       ...          ...           ...        ...   \n",
              "2022-08-05  0.931757  0.928791     0.909746      0.921673   0.922992   \n",
              "2022-08-08  0.892573  0.931820     0.937487      0.918399   0.920070   \n",
              "2022-08-10  0.932556  0.918231     0.930404      0.934628   0.928955   \n",
              "2022-08-11  0.924593  0.908579     0.927762      0.925905   0.921710   \n",
              "2022-08-12  0.941297  0.931931     0.940567      0.916212   0.932502   \n",
              "\n",
              "            Benchmark  RF Rate  \n",
              "Date                            \n",
              "2017-08-16  -0.061446      0.0  \n",
              "2017-08-17  -0.072056      0.0  \n",
              "2017-08-18  -0.078187      0.0  \n",
              "2017-08-21  -0.082721      0.0  \n",
              "2017-08-22  -0.071292      0.0  \n",
              "...               ...      ...  \n",
              "2022-08-05  -0.072377      0.0  \n",
              "2022-08-08  -0.064684      0.0  \n",
              "2022-08-10  -0.071492      0.0  \n",
              "2022-08-11  -0.066012      0.0  \n",
              "2022-08-12  -0.070102      0.0  \n",
              "\n",
              "[1235 rows x 7 columns]"
            ],
            "text/html": [
              "\n",
              "  <div id=\"df-d1c6f9df-4347-4ec8-ab95-50dace4957fd\">\n",
              "    <div class=\"colab-df-container\">\n",
              "      <div>\n",
              "<style scoped>\n",
              "    .dataframe tbody tr th:only-of-type {\n",
              "        vertical-align: middle;\n",
              "    }\n",
              "\n",
              "    .dataframe tbody tr th {\n",
              "        vertical-align: top;\n",
              "    }\n",
              "\n",
              "    .dataframe thead th {\n",
              "        text-align: right;\n",
              "    }\n",
              "</style>\n",
              "<table border=\"1\" class=\"dataframe\">\n",
              "  <thead>\n",
              "    <tr style=\"text-align: right;\">\n",
              "      <th></th>\n",
              "      <th>BPCL.NS</th>\n",
              "      <th>ITC.NS</th>\n",
              "      <th>RELIANCE.NS</th>\n",
              "      <th>SUNPHARMA.NS</th>\n",
              "      <th>Portfolio</th>\n",
              "      <th>Benchmark</th>\n",
              "      <th>RF Rate</th>\n",
              "    </tr>\n",
              "    <tr>\n",
              "      <th>Date</th>\n",
              "      <th></th>\n",
              "      <th></th>\n",
              "      <th></th>\n",
              "      <th></th>\n",
              "      <th></th>\n",
              "      <th></th>\n",
              "      <th></th>\n",
              "    </tr>\n",
              "  </thead>\n",
              "  <tbody>\n",
              "    <tr>\n",
              "      <th>2017-08-16</th>\n",
              "      <td>0.936116</td>\n",
              "      <td>0.953669</td>\n",
              "      <td>0.920035</td>\n",
              "      <td>0.953821</td>\n",
              "      <td>0.940910</td>\n",
              "      <td>-0.061446</td>\n",
              "      <td>0.0</td>\n",
              "    </tr>\n",
              "    <tr>\n",
              "      <th>2017-08-17</th>\n",
              "      <td>0.944532</td>\n",
              "      <td>0.927298</td>\n",
              "      <td>0.925078</td>\n",
              "      <td>0.929677</td>\n",
              "      <td>0.931646</td>\n",
              "      <td>-0.072056</td>\n",
              "      <td>0.0</td>\n",
              "    </tr>\n",
              "    <tr>\n",
              "      <th>2017-08-18</th>\n",
              "      <td>0.943832</td>\n",
              "      <td>0.931030</td>\n",
              "      <td>0.929723</td>\n",
              "      <td>0.887472</td>\n",
              "      <td>0.923014</td>\n",
              "      <td>-0.078187</td>\n",
              "      <td>0.0</td>\n",
              "    </tr>\n",
              "    <tr>\n",
              "      <th>2017-08-21</th>\n",
              "      <td>0.913444</td>\n",
              "      <td>0.923557</td>\n",
              "      <td>0.917478</td>\n",
              "      <td>0.904078</td>\n",
              "      <td>0.914639</td>\n",
              "      <td>-0.082721</td>\n",
              "      <td>0.0</td>\n",
              "    </tr>\n",
              "    <tr>\n",
              "      <th>2017-08-22</th>\n",
              "      <td>0.949685</td>\n",
              "      <td>0.929045</td>\n",
              "      <td>0.921668</td>\n",
              "      <td>0.945878</td>\n",
              "      <td>0.936569</td>\n",
              "      <td>-0.071292</td>\n",
              "      <td>0.0</td>\n",
              "    </tr>\n",
              "    <tr>\n",
              "      <th>...</th>\n",
              "      <td>...</td>\n",
              "      <td>...</td>\n",
              "      <td>...</td>\n",
              "      <td>...</td>\n",
              "      <td>...</td>\n",
              "      <td>...</td>\n",
              "      <td>...</td>\n",
              "    </tr>\n",
              "    <tr>\n",
              "      <th>2022-08-05</th>\n",
              "      <td>0.931757</td>\n",
              "      <td>0.928791</td>\n",
              "      <td>0.909746</td>\n",
              "      <td>0.921673</td>\n",
              "      <td>0.922992</td>\n",
              "      <td>-0.072377</td>\n",
              "      <td>0.0</td>\n",
              "    </tr>\n",
              "    <tr>\n",
              "      <th>2022-08-08</th>\n",
              "      <td>0.892573</td>\n",
              "      <td>0.931820</td>\n",
              "      <td>0.937487</td>\n",
              "      <td>0.918399</td>\n",
              "      <td>0.920070</td>\n",
              "      <td>-0.064684</td>\n",
              "      <td>0.0</td>\n",
              "    </tr>\n",
              "    <tr>\n",
              "      <th>2022-08-10</th>\n",
              "      <td>0.932556</td>\n",
              "      <td>0.918231</td>\n",
              "      <td>0.930404</td>\n",
              "      <td>0.934628</td>\n",
              "      <td>0.928955</td>\n",
              "      <td>-0.071492</td>\n",
              "      <td>0.0</td>\n",
              "    </tr>\n",
              "    <tr>\n",
              "      <th>2022-08-11</th>\n",
              "      <td>0.924593</td>\n",
              "      <td>0.908579</td>\n",
              "      <td>0.927762</td>\n",
              "      <td>0.925905</td>\n",
              "      <td>0.921710</td>\n",
              "      <td>-0.066012</td>\n",
              "      <td>0.0</td>\n",
              "    </tr>\n",
              "    <tr>\n",
              "      <th>2022-08-12</th>\n",
              "      <td>0.941297</td>\n",
              "      <td>0.931931</td>\n",
              "      <td>0.940567</td>\n",
              "      <td>0.916212</td>\n",
              "      <td>0.932502</td>\n",
              "      <td>-0.070102</td>\n",
              "      <td>0.0</td>\n",
              "    </tr>\n",
              "  </tbody>\n",
              "</table>\n",
              "<p>1235 rows × 7 columns</p>\n",
              "</div>\n",
              "      <button class=\"colab-df-convert\" onclick=\"convertToInteractive('df-d1c6f9df-4347-4ec8-ab95-50dace4957fd')\"\n",
              "              title=\"Convert this dataframe to an interactive table.\"\n",
              "              style=\"display:none;\">\n",
              "        \n",
              "  <svg xmlns=\"http://www.w3.org/2000/svg\" height=\"24px\"viewBox=\"0 0 24 24\"\n",
              "       width=\"24px\">\n",
              "    <path d=\"M0 0h24v24H0V0z\" fill=\"none\"/>\n",
              "    <path d=\"M18.56 5.44l.94 2.06.94-2.06 2.06-.94-2.06-.94-.94-2.06-.94 2.06-2.06.94zm-11 1L8.5 8.5l.94-2.06 2.06-.94-2.06-.94L8.5 2.5l-.94 2.06-2.06.94zm10 10l.94 2.06.94-2.06 2.06-.94-2.06-.94-.94-2.06-.94 2.06-2.06.94z\"/><path d=\"M17.41 7.96l-1.37-1.37c-.4-.4-.92-.59-1.43-.59-.52 0-1.04.2-1.43.59L10.3 9.45l-7.72 7.72c-.78.78-.78 2.05 0 2.83L4 21.41c.39.39.9.59 1.41.59.51 0 1.02-.2 1.41-.59l7.78-7.78 2.81-2.81c.8-.78.8-2.07 0-2.86zM5.41 20L4 18.59l7.72-7.72 1.47 1.35L5.41 20z\"/>\n",
              "  </svg>\n",
              "      </button>\n",
              "      \n",
              "  <style>\n",
              "    .colab-df-container {\n",
              "      display:flex;\n",
              "      flex-wrap:wrap;\n",
              "      gap: 12px;\n",
              "    }\n",
              "\n",
              "    .colab-df-convert {\n",
              "      background-color: #E8F0FE;\n",
              "      border: none;\n",
              "      border-radius: 50%;\n",
              "      cursor: pointer;\n",
              "      display: none;\n",
              "      fill: #1967D2;\n",
              "      height: 32px;\n",
              "      padding: 0 0 0 0;\n",
              "      width: 32px;\n",
              "    }\n",
              "\n",
              "    .colab-df-convert:hover {\n",
              "      background-color: #E2EBFA;\n",
              "      box-shadow: 0px 1px 2px rgba(60, 64, 67, 0.3), 0px 1px 3px 1px rgba(60, 64, 67, 0.15);\n",
              "      fill: #174EA6;\n",
              "    }\n",
              "\n",
              "    [theme=dark] .colab-df-convert {\n",
              "      background-color: #3B4455;\n",
              "      fill: #D2E3FC;\n",
              "    }\n",
              "\n",
              "    [theme=dark] .colab-df-convert:hover {\n",
              "      background-color: #434B5C;\n",
              "      box-shadow: 0px 1px 3px 1px rgba(0, 0, 0, 0.15);\n",
              "      filter: drop-shadow(0px 1px 2px rgba(0, 0, 0, 0.3));\n",
              "      fill: #FFFFFF;\n",
              "    }\n",
              "  </style>\n",
              "\n",
              "      <script>\n",
              "        const buttonEl =\n",
              "          document.querySelector('#df-d1c6f9df-4347-4ec8-ab95-50dace4957fd button.colab-df-convert');\n",
              "        buttonEl.style.display =\n",
              "          google.colab.kernel.accessAllowed ? 'block' : 'none';\n",
              "\n",
              "        async function convertToInteractive(key) {\n",
              "          const element = document.querySelector('#df-d1c6f9df-4347-4ec8-ab95-50dace4957fd');\n",
              "          const dataTable =\n",
              "            await google.colab.kernel.invokeFunction('convertToInteractive',\n",
              "                                                     [key], {});\n",
              "          if (!dataTable) return;\n",
              "\n",
              "          const docLinkHtml = 'Like what you see? Visit the ' +\n",
              "            '<a target=\"_blank\" href=https://colab.research.google.com/notebooks/data_table.ipynb>data table notebook</a>'\n",
              "            + ' to learn more about interactive tables.';\n",
              "          element.innerHTML = '';\n",
              "          dataTable['output_type'] = 'display_data';\n",
              "          await google.colab.output.renderOutput(dataTable, element);\n",
              "          const docLink = document.createElement('div');\n",
              "          docLink.innerHTML = docLinkHtml;\n",
              "          element.appendChild(docLink);\n",
              "        }\n",
              "      </script>\n",
              "    </div>\n",
              "  </div>\n",
              "  "
            ]
          },
          "metadata": {},
          "execution_count": 52
        }
      ]
    },
    {
      "cell_type": "code",
      "source": [
        "Portfolio_return['Portfolio']= Portfolio_return['Portfolio']\n",
        "Portfolio_return"
      ],
      "metadata": {
        "colab": {
          "base_uri": "https://localhost:8080/",
          "height": 559
        },
        "id": "i5o4o_qmLN67",
        "outputId": "5c522de5-fcbd-4c5f-a498-aee0b2c51302"
      },
      "execution_count": 53,
      "outputs": [
        {
          "output_type": "stream",
          "name": "stderr",
          "text": [
            "/usr/local/lib/python3.7/dist-packages/ipykernel_launcher.py:1: SettingWithCopyWarning: \n",
            "A value is trying to be set on a copy of a slice from a DataFrame.\n",
            "Try using .loc[row_indexer,col_indexer] = value instead\n",
            "\n",
            "See the caveats in the documentation: https://pandas.pydata.org/pandas-docs/stable/user_guide/indexing.html#returning-a-view-versus-a-copy\n",
            "  \"\"\"Entry point for launching an IPython kernel.\n"
          ]
        },
        {
          "output_type": "execute_result",
          "data": {
            "text/plain": [
              "             BPCL.NS    ITC.NS  RELIANCE.NS  SUNPHARMA.NS  Portfolio  \\\n",
              "Date                                                                   \n",
              "2017-08-16  1.011707  1.029309     0.995582      1.029462   1.016515   \n",
              "2017-08-17  1.020147  1.002865     1.000639      1.005250   1.007225   \n",
              "2017-08-18  1.019445  1.006607     1.005296      0.962929   0.998569   \n",
              "2017-08-21  0.988973  0.999113     0.993018      0.979581   0.990171   \n",
              "2017-08-22  1.025314  1.004616     0.997219      1.021496   1.012161   \n",
              "...              ...       ...          ...           ...        ...   \n",
              "2022-08-05  1.007336  1.004362     0.985264      0.997224   0.998546   \n",
              "2022-08-08  0.968044  1.007399     1.013082      0.993941   0.995616   \n",
              "2022-08-10  1.008138  0.993773     1.005979      1.010215   1.004526   \n",
              "2022-08-11  1.000152  0.984094     1.003330      1.001468   0.997261   \n",
              "2022-08-12  1.016903  1.007510     1.016171      0.991749   1.008083   \n",
              "\n",
              "            Benchmark  RF Rate  \n",
              "Date                            \n",
              "2017-08-16   0.011384    0.073  \n",
              "2017-08-17   0.000745    0.073  \n",
              "2017-08-18  -0.005403    0.073  \n",
              "2017-08-21  -0.009950    0.073  \n",
              "2017-08-22   0.001511    0.073  \n",
              "...               ...      ...  \n",
              "2022-08-05   0.000423    0.073  \n",
              "2022-08-08   0.008137    0.073  \n",
              "2022-08-10   0.001310    0.073  \n",
              "2022-08-11   0.006805    0.073  \n",
              "2022-08-12   0.002704    0.073  \n",
              "\n",
              "[1235 rows x 7 columns]"
            ],
            "text/html": [
              "\n",
              "  <div id=\"df-0cbeeacb-b351-42be-ab10-f28f0f1b620e\">\n",
              "    <div class=\"colab-df-container\">\n",
              "      <div>\n",
              "<style scoped>\n",
              "    .dataframe tbody tr th:only-of-type {\n",
              "        vertical-align: middle;\n",
              "    }\n",
              "\n",
              "    .dataframe tbody tr th {\n",
              "        vertical-align: top;\n",
              "    }\n",
              "\n",
              "    .dataframe thead th {\n",
              "        text-align: right;\n",
              "    }\n",
              "</style>\n",
              "<table border=\"1\" class=\"dataframe\">\n",
              "  <thead>\n",
              "    <tr style=\"text-align: right;\">\n",
              "      <th></th>\n",
              "      <th>BPCL.NS</th>\n",
              "      <th>ITC.NS</th>\n",
              "      <th>RELIANCE.NS</th>\n",
              "      <th>SUNPHARMA.NS</th>\n",
              "      <th>Portfolio</th>\n",
              "      <th>Benchmark</th>\n",
              "      <th>RF Rate</th>\n",
              "    </tr>\n",
              "    <tr>\n",
              "      <th>Date</th>\n",
              "      <th></th>\n",
              "      <th></th>\n",
              "      <th></th>\n",
              "      <th></th>\n",
              "      <th></th>\n",
              "      <th></th>\n",
              "      <th></th>\n",
              "    </tr>\n",
              "  </thead>\n",
              "  <tbody>\n",
              "    <tr>\n",
              "      <th>2017-08-16</th>\n",
              "      <td>1.011707</td>\n",
              "      <td>1.029309</td>\n",
              "      <td>0.995582</td>\n",
              "      <td>1.029462</td>\n",
              "      <td>1.016515</td>\n",
              "      <td>0.011384</td>\n",
              "      <td>0.073</td>\n",
              "    </tr>\n",
              "    <tr>\n",
              "      <th>2017-08-17</th>\n",
              "      <td>1.020147</td>\n",
              "      <td>1.002865</td>\n",
              "      <td>1.000639</td>\n",
              "      <td>1.005250</td>\n",
              "      <td>1.007225</td>\n",
              "      <td>0.000745</td>\n",
              "      <td>0.073</td>\n",
              "    </tr>\n",
              "    <tr>\n",
              "      <th>2017-08-18</th>\n",
              "      <td>1.019445</td>\n",
              "      <td>1.006607</td>\n",
              "      <td>1.005296</td>\n",
              "      <td>0.962929</td>\n",
              "      <td>0.998569</td>\n",
              "      <td>-0.005403</td>\n",
              "      <td>0.073</td>\n",
              "    </tr>\n",
              "    <tr>\n",
              "      <th>2017-08-21</th>\n",
              "      <td>0.988973</td>\n",
              "      <td>0.999113</td>\n",
              "      <td>0.993018</td>\n",
              "      <td>0.979581</td>\n",
              "      <td>0.990171</td>\n",
              "      <td>-0.009950</td>\n",
              "      <td>0.073</td>\n",
              "    </tr>\n",
              "    <tr>\n",
              "      <th>2017-08-22</th>\n",
              "      <td>1.025314</td>\n",
              "      <td>1.004616</td>\n",
              "      <td>0.997219</td>\n",
              "      <td>1.021496</td>\n",
              "      <td>1.012161</td>\n",
              "      <td>0.001511</td>\n",
              "      <td>0.073</td>\n",
              "    </tr>\n",
              "    <tr>\n",
              "      <th>...</th>\n",
              "      <td>...</td>\n",
              "      <td>...</td>\n",
              "      <td>...</td>\n",
              "      <td>...</td>\n",
              "      <td>...</td>\n",
              "      <td>...</td>\n",
              "      <td>...</td>\n",
              "    </tr>\n",
              "    <tr>\n",
              "      <th>2022-08-05</th>\n",
              "      <td>1.007336</td>\n",
              "      <td>1.004362</td>\n",
              "      <td>0.985264</td>\n",
              "      <td>0.997224</td>\n",
              "      <td>0.998546</td>\n",
              "      <td>0.000423</td>\n",
              "      <td>0.073</td>\n",
              "    </tr>\n",
              "    <tr>\n",
              "      <th>2022-08-08</th>\n",
              "      <td>0.968044</td>\n",
              "      <td>1.007399</td>\n",
              "      <td>1.013082</td>\n",
              "      <td>0.993941</td>\n",
              "      <td>0.995616</td>\n",
              "      <td>0.008137</td>\n",
              "      <td>0.073</td>\n",
              "    </tr>\n",
              "    <tr>\n",
              "      <th>2022-08-10</th>\n",
              "      <td>1.008138</td>\n",
              "      <td>0.993773</td>\n",
              "      <td>1.005979</td>\n",
              "      <td>1.010215</td>\n",
              "      <td>1.004526</td>\n",
              "      <td>0.001310</td>\n",
              "      <td>0.073</td>\n",
              "    </tr>\n",
              "    <tr>\n",
              "      <th>2022-08-11</th>\n",
              "      <td>1.000152</td>\n",
              "      <td>0.984094</td>\n",
              "      <td>1.003330</td>\n",
              "      <td>1.001468</td>\n",
              "      <td>0.997261</td>\n",
              "      <td>0.006805</td>\n",
              "      <td>0.073</td>\n",
              "    </tr>\n",
              "    <tr>\n",
              "      <th>2022-08-12</th>\n",
              "      <td>1.016903</td>\n",
              "      <td>1.007510</td>\n",
              "      <td>1.016171</td>\n",
              "      <td>0.991749</td>\n",
              "      <td>1.008083</td>\n",
              "      <td>0.002704</td>\n",
              "      <td>0.073</td>\n",
              "    </tr>\n",
              "  </tbody>\n",
              "</table>\n",
              "<p>1235 rows × 7 columns</p>\n",
              "</div>\n",
              "      <button class=\"colab-df-convert\" onclick=\"convertToInteractive('df-0cbeeacb-b351-42be-ab10-f28f0f1b620e')\"\n",
              "              title=\"Convert this dataframe to an interactive table.\"\n",
              "              style=\"display:none;\">\n",
              "        \n",
              "  <svg xmlns=\"http://www.w3.org/2000/svg\" height=\"24px\"viewBox=\"0 0 24 24\"\n",
              "       width=\"24px\">\n",
              "    <path d=\"M0 0h24v24H0V0z\" fill=\"none\"/>\n",
              "    <path d=\"M18.56 5.44l.94 2.06.94-2.06 2.06-.94-2.06-.94-.94-2.06-.94 2.06-2.06.94zm-11 1L8.5 8.5l.94-2.06 2.06-.94-2.06-.94L8.5 2.5l-.94 2.06-2.06.94zm10 10l.94 2.06.94-2.06 2.06-.94-2.06-.94-.94-2.06-.94 2.06-2.06.94z\"/><path d=\"M17.41 7.96l-1.37-1.37c-.4-.4-.92-.59-1.43-.59-.52 0-1.04.2-1.43.59L10.3 9.45l-7.72 7.72c-.78.78-.78 2.05 0 2.83L4 21.41c.39.39.9.59 1.41.59.51 0 1.02-.2 1.41-.59l7.78-7.78 2.81-2.81c.8-.78.8-2.07 0-2.86zM5.41 20L4 18.59l7.72-7.72 1.47 1.35L5.41 20z\"/>\n",
              "  </svg>\n",
              "      </button>\n",
              "      \n",
              "  <style>\n",
              "    .colab-df-container {\n",
              "      display:flex;\n",
              "      flex-wrap:wrap;\n",
              "      gap: 12px;\n",
              "    }\n",
              "\n",
              "    .colab-df-convert {\n",
              "      background-color: #E8F0FE;\n",
              "      border: none;\n",
              "      border-radius: 50%;\n",
              "      cursor: pointer;\n",
              "      display: none;\n",
              "      fill: #1967D2;\n",
              "      height: 32px;\n",
              "      padding: 0 0 0 0;\n",
              "      width: 32px;\n",
              "    }\n",
              "\n",
              "    .colab-df-convert:hover {\n",
              "      background-color: #E2EBFA;\n",
              "      box-shadow: 0px 1px 2px rgba(60, 64, 67, 0.3), 0px 1px 3px 1px rgba(60, 64, 67, 0.15);\n",
              "      fill: #174EA6;\n",
              "    }\n",
              "\n",
              "    [theme=dark] .colab-df-convert {\n",
              "      background-color: #3B4455;\n",
              "      fill: #D2E3FC;\n",
              "    }\n",
              "\n",
              "    [theme=dark] .colab-df-convert:hover {\n",
              "      background-color: #434B5C;\n",
              "      box-shadow: 0px 1px 3px 1px rgba(0, 0, 0, 0.15);\n",
              "      filter: drop-shadow(0px 1px 2px rgba(0, 0, 0, 0.3));\n",
              "      fill: #FFFFFF;\n",
              "    }\n",
              "  </style>\n",
              "\n",
              "      <script>\n",
              "        const buttonEl =\n",
              "          document.querySelector('#df-0cbeeacb-b351-42be-ab10-f28f0f1b620e button.colab-df-convert');\n",
              "        buttonEl.style.display =\n",
              "          google.colab.kernel.accessAllowed ? 'block' : 'none';\n",
              "\n",
              "        async function convertToInteractive(key) {\n",
              "          const element = document.querySelector('#df-0cbeeacb-b351-42be-ab10-f28f0f1b620e');\n",
              "          const dataTable =\n",
              "            await google.colab.kernel.invokeFunction('convertToInteractive',\n",
              "                                                     [key], {});\n",
              "          if (!dataTable) return;\n",
              "\n",
              "          const docLinkHtml = 'Like what you see? Visit the ' +\n",
              "            '<a target=\"_blank\" href=https://colab.research.google.com/notebooks/data_table.ipynb>data table notebook</a>'\n",
              "            + ' to learn more about interactive tables.';\n",
              "          element.innerHTML = '';\n",
              "          dataTable['output_type'] = 'display_data';\n",
              "          await google.colab.output.renderOutput(dataTable, element);\n",
              "          const docLink = document.createElement('div');\n",
              "          docLink.innerHTML = docLinkHtml;\n",
              "          element.appendChild(docLink);\n",
              "        }\n",
              "      </script>\n",
              "    </div>\n",
              "  </div>\n",
              "  "
            ]
          },
          "metadata": {},
          "execution_count": 53
        }
      ]
    },
    {
      "cell_type": "code",
      "source": [
        "var99= np.percentile(Portfolio_return['Portfolio'],1)\n",
        "var99"
      ],
      "metadata": {
        "colab": {
          "base_uri": "https://localhost:8080/"
        },
        "id": "eH0TO8DeMP-y",
        "outputId": "ab0d4733-a474-4da2-d74c-f6c73b3c4775"
      },
      "execution_count": 56,
      "outputs": [
        {
          "output_type": "execute_result",
          "data": {
            "text/plain": [
              "0.9681457460311951"
            ]
          },
          "metadata": {},
          "execution_count": 56
        }
      ]
    }
  ]
}